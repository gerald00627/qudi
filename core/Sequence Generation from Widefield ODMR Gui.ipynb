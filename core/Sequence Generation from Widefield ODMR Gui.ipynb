{
 "cells": [
  {
   "cell_type": "code",
   "execution_count": 1,
   "metadata": {
    "collapsed": true
   },
   "outputs": [
    {
     "data": {
      "text/plain": [
       "{'AEchirpedodmr': {'name': 'AllenEberlyChirpODMR', 'mw_freq_center': 2870000000.0, 'freq_range': 500000000.0, 'freq_overlap': 20000000.0, 'num_of_points': 50, 'pulse_length': 5e-07, 'truncation_ratio': 0.1, 'expected_rabi_frequency': 30000000.0, 'expected_t2': 5e-06, 'peak_mw_amplitude': 0.25}, 'HHamp': {'name': 'hh_amp', 'spinlock_length': 2e-05, 'amp_start': 0.05, 'amp_step': 0.01, 'num_of_points': 50}, 'HHpol': {'name': 'hh_pol', 'spinlock_length': 2e-05, 'spinlock_amp': 0.1, 'polarization_steps': 50}, 'HHtau': {'name': 'hh_tau', 'spinlock_amp': 0.1, 'tau_start': 1e-06, 'tau_step': 1e-06, 'num_of_points': 50}, 'chirpedodmr': {'name': 'LinearChirpedODMR', 'mw_freq_center': 2870000000.0, 'freq_range': 500000000.0, 'freq_overlap': 20000000.0, 'num_of_points': 50, 'pulse_length': 5e-07, 'expected_rabi_frequency': 30000000.0, 'expected_t2': 5e-06}, 'hahnecho': {'name': 'hahn_echo', 'tau_start': 0.0, 'tau_step': 1e-06, 'num_of_points': 50, 'alternating': True}, 'hahnecho_exp': {'name': 'hahn_echo', 'tau_start': 1e-06, 'tau_end': 1e-06, 'num_of_points': 50, 'alternating': True}, 'idle': {'name': 'idle', 'length': 3e-06}, 'laser_mw_on': {'name': 'laser_mw_on', 'length': 3e-06}, 'laser_on': {'name': 'laser_on', 'length': 3e-06}, 'n_digital_high': {'name': 'digital_high', 'length': 3e-06, 'digital_channels': '1,2,3,4'}, 'pulsedodmr': {'name': 'pulsedODMR', 'freq_start': 2870000000.0, 'freq_step': 200000.0, 'num_of_points': 50}, 'rabi': {'name': 'rabi', 'tau_start': 1e-08, 'tau_step': 1e-08, 'num_of_points': 50, 'reference': False}, 'rabiTwo': {'name': 'rabiTwo', 'tau_start': 1e-08, 'tau_step': 1e-08, 'num_of_points': 50, 'reference': False}, 'rabiWF': {'name': 'rabiWF', 'tau_start': 1e-08, 'tau_step': 1e-08, 'num_of_points': 50, 'reference': False}, 'ramsey': {'name': 'ramsey', 'tau_start': 1e-06, 'tau_step': 1e-06, 'num_of_points': 50, 'alternating': True}, 'ramsey_from_list': {'name': 'ramsey', 'tau_list': '[1e-6, 2e-6]', 'alternating': True}, 't1': {'name': 'T1', 'tau_start': 1e-06, 'tau_step': 1e-06, 'num_of_points': 50, 'reference': False}, 't1_3exponential': {'name': 'T1exp3', 'tau_start': 1e-06, 'tau_end': 1e-05, 'num_of_points': 10}, 't1_WF_3exponential': {'name': 'T1WFexp3', 'tau_start': 1e-06, 'tau_end': 1e-05, 'num_of_points': 10}, 't1_exponential': {'name': 'T1exp', 'tau_start': 1e-06, 'tau_end': 1e-05, 'num_of_points': 10, 'reference': False}, 't1_sequencing': {'name': 't1_seq', 'tau_start': 1e-06, 'tau_max': 0.001, 'num_of_points': 10}, 'two_digital_high': {'name': 'digital_high', 'length': 3e-06, 'digital_channel1': 'd_ch1', 'digital_channel2': 'd_ch1'}, 'WF_esr_testing': {'name': 'ODMR', 'length': 3e-06, 'ranges': True}, 'WF_laser_mw_on': {'name': 'laser_mw_on', 'length': 3e-06}, 'WF_laser_on': {'name': 'laser_on', 'length': 3e-06}, 'WF_rabi': {'name': 'rabiWF', 'tau_start': 1e-08, 'tau_step': 1e-08, 'num_of_points': 50, 'reference': False}, 'WF_t1_3exponential': {'name': 'T1WFexp3', 'tau_start': 1e-06, 'tau_end': 1e-05, 'num_of_points': 10}, 'HHphase_N': {'name': 'HH_Phase_N', 'amp_hh': 0.05, 'tau': 5e-07, 'order_start': 4, 'order_step': 1, 'num_of_points': 50, 'alternating': True}, 'HHphase_tau': {'name': 'HH_Phase', 'amp_hh': 0.5, 'tau_start': 5e-07, 'tau_step': 1e-08, 'num_of_points': 50, 'xy8_order': 4, 'alternating': True}, 'rot_echo_N': {'name': 'rot_echo_N', 'amp_hh': 0.05, 'tau': 5e-07, 'order_start': 4, 'order_step': 1, 'num_of_points': 50, 'alternating': True}, 'rot_echo_tau': {'name': 'rot_echo', 'amp_hh': 0.05, 'tau_start': 5e-07, 'tau_step': 1e-08, 'num_of_points': 50, 'order': 4, 'alternating': True}, 'xy8_freq': {'name': 'xy8_freq', 'freq_start': 100000.0, 'freq_step': 10000.0, 'num_of_points': 50, 'xy8_order': 4, 'alternating': True}, 'xy8_tau': {'name': 'xy8_tau', 'tau_start': 5e-07, 'tau_step': 1e-08, 'num_of_points': 50, 'xy8_order': 4, 'alternating': True}}"
      ]
     },
     "execution_count": 1,
     "metadata": {},
     "output_type": "execute_result"
    }
   ],
   "source": [
    "camera_odmr_gui._widefield_logic.generate_method_params"
   ]
  },
  {
   "cell_type": "code",
   "execution_count": 8,
   "metadata": {},
   "outputs": [
    {
     "data": {
      "text/plain": [
       "1"
      ]
     },
     "execution_count": 8,
     "metadata": {},
     "output_type": "execute_result"
    }
   ],
   "source": [
    "camera_odmr_gui._widefield_logic.ranges"
   ]
  },
  {
   "cell_type": "code",
   "execution_count": 15,
   "metadata": {
    "collapsed": true
   },
   "outputs": [
    {
     "name": "stdout",
     "output_type": "stream",
     "text": [
      "0\n",
      "name\n",
      "T1WFexp3\n",
      "1\n",
      "tau_start\n",
      "1e-06\n",
      "2\n",
      "tau_end\n",
      "1e-05\n",
      "3\n",
      "num_of_points\n",
      "10\n"
     ]
    }
   ],
   "source": [
    "for param_index, (param_name, param) in enumerate(camera_odmr_gui._widefield_logic.generate_method_params['t1_WF_3exponential'].items()):\n",
    "    print(param_index)\n",
    "    print(param_name)\n",
    "    print(param)"
   ]
  },
  {
   "cell_type": "code",
   "execution_count": 18,
   "metadata": {
    "collapsed": true
   },
   "outputs": [
    {
     "name": "stdout",
     "output_type": "stream",
     "text": [
      "0\n",
      "name\n",
      "rabiWF\n",
      "1\n",
      "tau_start\n",
      "1e-08\n",
      "2\n",
      "tau_step\n",
      "1e-08\n",
      "3\n",
      "num_of_points\n",
      "50\n",
      "4\n",
      "reference\n",
      "False\n"
     ]
    }
   ],
   "source": [
    "for param_index, (param_name, param) in enumerate(camera_odmr_gui._widefield_logic.generate_method_params['rabiWF'].items()):\n",
    "    print(param_index)\n",
    "    print(param_name)\n",
    "    print(param)"
   ]
  },
  {
   "cell_type": "code",
   "execution_count": 19,
   "metadata": {
    "collapsed": true
   },
   "outputs": [
    {
     "data": {
      "text/plain": [
       "{'AEchirpedodmr': <bound method BasicPredefinedGenerator.generate_AEchirpedodmr of <basic_predefined_methods.BasicPredefinedGenerator object at 0x0000019EE5241208>>, 'HHamp': <bound method BasicPredefinedGenerator.generate_HHamp of <basic_predefined_methods.BasicPredefinedGenerator object at 0x0000019EE5241208>>, 'HHpol': <bound method BasicPredefinedGenerator.generate_HHpol of <basic_predefined_methods.BasicPredefinedGenerator object at 0x0000019EE5241208>>, 'HHtau': <bound method BasicPredefinedGenerator.generate_HHtau of <basic_predefined_methods.BasicPredefinedGenerator object at 0x0000019EE5241208>>, 'chirpedodmr': <bound method BasicPredefinedGenerator.generate_chirpedodmr of <basic_predefined_methods.BasicPredefinedGenerator object at 0x0000019EE5241208>>, 'hahnecho': <bound method BasicPredefinedGenerator.generate_hahnecho of <basic_predefined_methods.BasicPredefinedGenerator object at 0x0000019EE5241208>>, 'hahnecho_exp': <bound method BasicPredefinedGenerator.generate_hahnecho_exp of <basic_predefined_methods.BasicPredefinedGenerator object at 0x0000019EE5241208>>, 'idle': <bound method BasicPredefinedGenerator.generate_idle of <basic_predefined_methods.BasicPredefinedGenerator object at 0x0000019EE5241208>>, 'laser_mw_on': <bound method BasicPredefinedGenerator.generate_laser_mw_on of <basic_predefined_methods.BasicPredefinedGenerator object at 0x0000019EE5241208>>, 'laser_on': <bound method BasicPredefinedGenerator.generate_laser_on of <basic_predefined_methods.BasicPredefinedGenerator object at 0x0000019EE5241208>>, 'n_digital_high': <bound method BasicPredefinedGenerator.generate_n_digital_high of <basic_predefined_methods.BasicPredefinedGenerator object at 0x0000019EE5241208>>, 'pulsedodmr': <bound method BasicPredefinedGenerator.generate_pulsedodmr of <basic_predefined_methods.BasicPredefinedGenerator object at 0x0000019EE5241208>>, 'rabi': <bound method BasicPredefinedGenerator.generate_rabi of <basic_predefined_methods.BasicPredefinedGenerator object at 0x0000019EE5241208>>, 'rabiTwo': <bound method BasicPredefinedGenerator.generate_rabiTwo of <basic_predefined_methods.BasicPredefinedGenerator object at 0x0000019EE5241208>>, 'rabiWF': <bound method BasicPredefinedGenerator.generate_rabiWF of <basic_predefined_methods.BasicPredefinedGenerator object at 0x0000019EE5241208>>, 'ramsey': <bound method BasicPredefinedGenerator.generate_ramsey of <basic_predefined_methods.BasicPredefinedGenerator object at 0x0000019EE5241208>>, 'ramsey_from_list': <bound method BasicPredefinedGenerator.generate_ramsey_from_list of <basic_predefined_methods.BasicPredefinedGenerator object at 0x0000019EE5241208>>, 't1': <bound method BasicPredefinedGenerator.generate_t1 of <basic_predefined_methods.BasicPredefinedGenerator object at 0x0000019EE5241208>>, 't1_3exponential': <bound method BasicPredefinedGenerator.generate_t1_3exponential of <basic_predefined_methods.BasicPredefinedGenerator object at 0x0000019EE5241208>>, 't1_WF_3exponential': <bound method BasicPredefinedGenerator.generate_t1_WF_3exponential of <basic_predefined_methods.BasicPredefinedGenerator object at 0x0000019EE5241208>>, 't1_exponential': <bound method BasicPredefinedGenerator.generate_t1_exponential of <basic_predefined_methods.BasicPredefinedGenerator object at 0x0000019EE5241208>>, 't1_sequencing': <bound method BasicPredefinedGenerator.generate_t1_sequencing of <basic_predefined_methods.BasicPredefinedGenerator object at 0x0000019EE5241208>>, 'two_digital_high': <bound method BasicPredefinedGenerator.generate_two_digital_high of <basic_predefined_methods.BasicPredefinedGenerator object at 0x0000019EE5241208>>, 'WF_esr_testing': <bound method BasicPredefinedGenerator.generate_WF_esr_testing of <basic_WF_predefined_methods.BasicPredefinedGenerator object at 0x0000019EE5241C18>>, 'WF_laser_mw_on': <bound method BasicPredefinedGenerator.generate_WF_laser_mw_on of <basic_WF_predefined_methods.BasicPredefinedGenerator object at 0x0000019EE5241C18>>, 'WF_laser_on': <bound method BasicPredefinedGenerator.generate_WF_laser_on of <basic_WF_predefined_methods.BasicPredefinedGenerator object at 0x0000019EE5241C18>>, 'WF_rabi': <bound method BasicPredefinedGenerator.generate_WF_rabi of <basic_WF_predefined_methods.BasicPredefinedGenerator object at 0x0000019EE5241C18>>, 'WF_t1_3exponential': <bound method BasicPredefinedGenerator.generate_WF_t1_3exponential of <basic_WF_predefined_methods.BasicPredefinedGenerator object at 0x0000019EE5241C18>>, 'HHphase_N': <bound method ContDDPredefinedGenerator.generate_HHphase_N of <contdd_predefined_methods.ContDDPredefinedGenerator object at 0x0000019EE5241F98>>, 'HHphase_tau': <bound method ContDDPredefinedGenerator.generate_HHphase_tau of <contdd_predefined_methods.ContDDPredefinedGenerator object at 0x0000019EE5241F98>>, 'rot_echo_N': <bound method ContDDPredefinedGenerator.generate_rot_echo_N of <contdd_predefined_methods.ContDDPredefinedGenerator object at 0x0000019EE5241F98>>, 'rot_echo_tau': <bound method ContDDPredefinedGenerator.generate_rot_echo_tau of <contdd_predefined_methods.ContDDPredefinedGenerator object at 0x0000019EE5241F98>>, 'xy8_freq': <bound method DDPredefinedGenerator.generate_xy8_freq of <dd_predefined_methods.DDPredefinedGenerator object at 0x0000019EE5241390>>, 'xy8_tau': <bound method DDPredefinedGenerator.generate_xy8_tau of <dd_predefined_methods.DDPredefinedGenerator object at 0x0000019EE5241390>>}"
      ]
     },
     "execution_count": 19,
     "metadata": {},
     "output_type": "execute_result"
    }
   ],
   "source": [
    "pulsedmeasurement.pulsedmasterlogic().generate_methods"
   ]
  },
  {
   "cell_type": "code",
   "execution_count": 23,
   "metadata": {
    "collapsed": true
   },
   "outputs": [
    {
     "data": {
      "text/plain": [
       "{'name': <PyQt5.QtWidgets.QLineEdit object at 0x0000019F15AF48B8>, 'length': <qtwidgets.scientific_spinbox.ScienDSpinBox object at 0x0000019F15AF49D8>, 'ranges': <PyQt5.QtWidgets.QCheckBox object at 0x0000019F15AF4B88>}"
      ]
     },
     "execution_count": 23,
     "metadata": {},
     "output_type": "execute_result"
    }
   ],
   "source": [
    "pulsedmeasurement._pm.method_param_widgets['WF_esr_testing']"
   ]
  },
  {
   "cell_type": "code",
   "execution_count": 3,
   "metadata": {},
   "outputs": [
    {
     "data": {
      "image/png": "[encoded data removed]"
     },
     "metadata": {
      "image/png": {
       "height": 437,
       "width": 653
      }
     },
     "output_type": "display_data"
    }
   ],
   "source": [
    "pulsestreamer._seq.plot()"
   ]
  },
  {
   "cell_type": "code",
   "execution_count": 4,
   "metadata": {},
   "outputs": [
    {
     "data": {
      "image/png": "[encoded data removed]"
     },
     "metadata": {
      "image/png": {
       "height": 437,
       "width": 653
      }
     },
     "output_type": "display_data"
    }
   ],
   "source": [
    "pulsestreamer._seq.plot()"
   ]
  },
  {
   "cell_type": "code",
   "execution_count": null,
   "metadata": {},
   "outputs": [],
   "source": []
  },
  {
   "cell_type": "code",
   "execution_count": 2,
   "metadata": {},
   "outputs": [
    {
     "data": {
      "text/plain": [
       "{'AEchirpedodmr': {'name': 'AllenEberlyChirpODMR', 'mw_freq_center': 2870000000.0, 'freq_range': 500000000.0, 'freq_overlap': 20000000.0, 'num_of_points': 50, 'pulse_length': 5e-07, 'truncation_ratio': 0.1, 'expected_rabi_frequency': 30000000.0, 'expected_t2': 5e-06, 'peak_mw_amplitude': 0.25}, 'HHamp': {'name': 'hh_amp', 'spinlock_length': 2e-05, 'amp_start': 0.05, 'amp_step': 0.01, 'num_of_points': 50}, 'HHpol': {'name': 'hh_pol', 'spinlock_length': 2e-05, 'spinlock_amp': 0.1, 'polarization_steps': 50}, 'HHtau': {'name': 'hh_tau', 'spinlock_amp': 0.1, 'tau_start': 1e-06, 'tau_step': 1e-06, 'num_of_points': 50}, 'chirpedodmr': {'name': 'LinearChirpedODMR', 'mw_freq_center': 2870000000.0, 'freq_range': 500000000.0, 'freq_overlap': 20000000.0, 'num_of_points': 50, 'pulse_length': 5e-07, 'expected_rabi_frequency': 30000000.0, 'expected_t2': 5e-06}, 'hahnecho': {'name': 'hahn_echo', 'tau_start': 0.0, 'tau_step': 1e-06, 'num_of_points': 50, 'alternating': True}, 'hahnecho_exp': {'name': 'hahn_echo', 'tau_start': 1e-06, 'tau_end': 1e-06, 'num_of_points': 50, 'alternating': True}, 'idle': {'name': 'idle', 'length': 3e-06}, 'laser_mw_on': {'name': 'laser_mw_on', 'length': 3e-06}, 'laser_on': {'name': 'laser_on', 'length': 3e-06}, 'n_digital_high': {'name': 'digital_high', 'length': 3e-06, 'digital_channels': '1,2,3,4'}, 'pulsedodmr': {'name': 'pulsedODMR', 'freq_start': 2870000000.0, 'freq_step': 200000.0, 'num_of_points': 50}, 'rabi': {'name': 'rabi', 'tau_start': 1e-08, 'tau_step': 1e-08, 'num_of_points': 50, 'reference': False}, 'rabiTwo': {'name': 'rabiTwo', 'tau_start': 1e-08, 'tau_step': 1e-08, 'num_of_points': 50, 'reference': False}, 'ramsey': {'name': 'ramsey', 'tau_start': 1e-06, 'tau_step': 1e-06, 'num_of_points': 50, 'alternating': True}, 'ramsey_from_list': {'name': 'ramsey', 'tau_list': '[1e-6, 2e-6]', 'alternating': True}, 't1': {'name': 'T1', 'tau_start': 1e-06, 'tau_step': 1e-06, 'num_of_points': 50, 'reference': False}, 't1_3exponential': {'name': 'T1exp3', 'tau_start': 1e-06, 'tau_end': 1e-05, 'num_of_points': 10}, 't1_exponential': {'name': 'T1exp', 'tau_start': 1e-06, 'tau_end': 1e-05, 'num_of_points': 10, 'reference': False}, 't1_sequencing': {'name': 't1_seq', 'tau_start': 1e-06, 'tau_max': 0.001, 'num_of_points': 10}, 'two_digital_high': {'name': 'digital_high', 'length': 3e-06, 'digital_channel1': 'd_ch1', 'digital_channel2': 'd_ch1'}, 'WF_ODMR': {'name': 'ODMR', 'length': 5e-06, 'ranges': True}, 'WF_rabi': {'name': 'rabiWF', 'tau_start': 1e-08, 'tau_step': 1e-08, 'num_of_points': 40, 'reference': False}, 'WF_t1_2exponential': {'name': 'T1WFtwocurve', 'tau_start': 1e-06, 'tau_end': 1e-05, 'num_of_points': 10}, 'WF_t1_3exponential': {'name': 'T1WFexp3', 'tau_start': 1e-06, 'tau_end': 1e-05, 'num_of_points': 10}, 'HHphase_N': {'name': 'HH_Phase_N', 'amp_hh': 0.05, 'tau': 5e-07, 'order_start': 4, 'order_step': 1, 'num_of_points': 50, 'alternating': True}, 'HHphase_tau': {'name': 'HH_Phase', 'amp_hh': 0.5, 'tau_start': 5e-07, 'tau_step': 1e-08, 'num_of_points': 50, 'xy8_order': 4, 'alternating': True}, 'rot_echo_N': {'name': 'rot_echo_N', 'amp_hh': 0.05, 'tau': 5e-07, 'order_start': 4, 'order_step': 1, 'num_of_points': 50, 'alternating': True}, 'rot_echo_tau': {'name': 'rot_echo', 'amp_hh': 0.05, 'tau_start': 5e-07, 'tau_step': 1e-08, 'num_of_points': 50, 'order': 4, 'alternating': True}, 'xy8_freq': {'name': 'xy8_freq', 'freq_start': 100000.0, 'freq_step': 10000.0, 'num_of_points': 50, 'xy8_order': 4, 'alternating': True}, 'xy8_tau': {'name': 'xy8_tau', 'tau_start': 5e-07, 'tau_step': 1e-08, 'num_of_points': 50, 'xy8_order': 4, 'alternating': True}}"
      ]
     },
     "execution_count": 2,
     "metadata": {},
     "output_type": "execute_result"
    }
   ],
   "source": [
    "widefieldmeasurementlogic.generate_method_params"
   ]
  },
  {
   "cell_type": "code",
   "execution_count": 7,
   "metadata": {},
   "outputs": [
    {
     "name": "stderr",
     "output_type": "stream",
     "text": [
      "Traceback (most recent call last):\n",
      "  File \"C:\\Users\\cduPC\\Documents\\GitHub\\qudi\\logic\\jupyterkernel\\qzmqkernel.py\", line 679, in run_code\n",
      "    exec(code_obj, self.user_global_ns, self.user_ns)\n",
      "  File \"<ipython-input-7-caf9f35727e4>\", line 1, in <module>\n",
      "    camera_odmr_gui.measurement\n",
      "AttributeError: 'WidefieldGUI' object has no attribute 'measurement'\n"
     ]
    }
   ],
   "source": [
    "camera_odmr_gui.measurement"
   ]
  },
  {
   "cell_type": "code",
   "execution_count": null,
   "metadata": {},
   "outputs": [],
   "source": []
  }
 ],
 "metadata": {
  "kernelspec": {
   "display_name": "Qudi",
   "language": "python",
   "name": "sj5-qudi"
  },
  "language_info": {
   "codemirror_mode": {
    "name": "ipython",
    "version": "3.6.5"
   },
   "file_extension": ".py",
   "mimetype": "text/x-python",
   "name": "python",
   "nbconvert_exporter": "python",
   "pygments_lexer": "ipython3",
   "version": "3.6.5"
  }
 },
 "nbformat": 4,
 "nbformat_minor": 2
}
