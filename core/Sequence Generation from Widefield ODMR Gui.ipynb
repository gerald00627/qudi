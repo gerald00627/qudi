{
 "cells": [
  {
   "cell_type": "code",
   "execution_count": 1,
   "metadata": {
    "collapsed": true
   },
   "outputs": [
    {
     "data": {
      "text/plain": [
       "{'AEchirpedodmr': {'name': 'AllenEberlyChirpODMR', 'mw_freq_center': 2870000000.0, 'freq_range': 500000000.0, 'freq_overlap': 20000000.0, 'num_of_points': 50, 'pulse_length': 5e-07, 'truncation_ratio': 0.1, 'expected_rabi_frequency': 30000000.0, 'expected_t2': 5e-06, 'peak_mw_amplitude': 0.25}, 'HHamp': {'name': 'hh_amp', 'spinlock_length': 2e-05, 'amp_start': 0.05, 'amp_step': 0.01, 'num_of_points': 50}, 'HHpol': {'name': 'hh_pol', 'spinlock_length': 2e-05, 'spinlock_amp': 0.1, 'polarization_steps': 50}, 'HHtau': {'name': 'hh_tau', 'spinlock_amp': 0.1, 'tau_start': 1e-06, 'tau_step': 1e-06, 'num_of_points': 50}, 'chirpedodmr': {'name': 'LinearChirpedODMR', 'mw_freq_center': 2870000000.0, 'freq_range': 500000000.0, 'freq_overlap': 20000000.0, 'num_of_points': 50, 'pulse_length': 5e-07, 'expected_rabi_frequency': 30000000.0, 'expected_t2': 5e-06}, 'hahnecho': {'name': 'hahn_echo', 'tau_start': 0.0, 'tau_step': 1e-06, 'num_of_points': 50, 'alternating': True}, 'hahnecho_exp': {'name': 'hahn_echo', 'tau_start': 1e-06, 'tau_end': 1e-06, 'num_of_points': 50, 'alternating': True}, 'idle': {'name': 'idle', 'length': 3e-06}, 'laser_mw_on': {'name': 'laser_mw_on', 'length': 3e-06}, 'laser_on': {'name': 'laser_on', 'length': 3e-06}, 'n_digital_high': {'name': 'digital_high', 'length': 3e-06, 'digital_channels': '1,2,3,4'}, 'pulsedodmr': {'name': 'pulsedODMR', 'freq_start': 2870000000.0, 'freq_step': 200000.0, 'num_of_points': 50}, 'rabi': {'name': 'rabi', 'tau_start': 1e-08, 'tau_step': 1e-08, 'num_of_points': 50, 'reference': False}, 'rabiTwo': {'name': 'rabiTwo', 'tau_start': 1e-08, 'tau_step': 1e-08, 'num_of_points': 50, 'reference': False}, 'ramsey': {'name': 'ramsey', 'tau_start': 1e-06, 'tau_step': 1e-06, 'num_of_points': 50, 'alternating': True}, 'ramsey_from_list': {'name': 'ramsey', 'tau_list': '[1e-6, 2e-6]', 'alternating': True}, 't1': {'name': 'T1', 'tau_start': 1e-06, 'tau_step': 1e-06, 'num_of_points': 50, 'reference': False}, 't1_3exponential': {'name': 'T1exp3', 'tau_start': 1e-06, 'tau_end': 1e-05, 'num_of_points': 10}, 't1_exponential': {'name': 'T1exp', 'tau_start': 1e-06, 'tau_end': 1e-05, 'num_of_points': 10, 'reference': False}, 't1_sequencing': {'name': 't1_seq', 'tau_start': 1e-06, 'tau_max': 0.001, 'num_of_points': 10}, 'two_digital_high': {'name': 'digital_high', 'length': 3e-06, 'digital_channel1': 'd_ch1', 'digital_channel2': 'd_ch1'}, 'WF_ODMR': {'name': 'ODMR', 'length': 5e-06, 'ranges': True}, 'WF_rabi': {'name': 'rabiWF', 'tau_start': 1e-08, 'tau_step': 1e-08, 'num_of_points': 40, 'reference': False}, 'WF_t1_2exponential': {'name': 'T1WFtwocurve', 'tau_start': 1e-06, 'tau_end': 1e-05, 'num_of_points': 10}, 'WF_t1_3exponential': {'name': 'T1WFexp3', 'tau_start': 1e-06, 'tau_end': 1e-05, 'num_of_points': 10}, 'HHphase_N': {'name': 'HH_Phase_N', 'amp_hh': 0.05, 'tau': 5e-07, 'order_start': 4, 'order_step': 1, 'num_of_points': 50, 'alternating': True}, 'HHphase_tau': {'name': 'HH_Phase', 'amp_hh': 0.5, 'tau_start': 5e-07, 'tau_step': 1e-08, 'num_of_points': 50, 'xy8_order': 4, 'alternating': True}, 'rot_echo_N': {'name': 'rot_echo_N', 'amp_hh': 0.05, 'tau': 5e-07, 'order_start': 4, 'order_step': 1, 'num_of_points': 50, 'alternating': True}, 'rot_echo_tau': {'name': 'rot_echo', 'amp_hh': 0.05, 'tau_start': 5e-07, 'tau_step': 1e-08, 'num_of_points': 50, 'order': 4, 'alternating': True}, 'xy8_freq': {'name': 'xy8_freq', 'freq_start': 100000.0, 'freq_step': 10000.0, 'num_of_points': 50, 'xy8_order': 4, 'alternating': True}, 'xy8_tau': {'name': 'xy8_tau', 'tau_start': 5e-07, 'tau_step': 1e-08, 'num_of_points': 50, 'xy8_order': 4, 'alternating': True}}"
      ]
     },
     "execution_count": 1,
     "metadata": {},
     "output_type": "execute_result"
    }
   ],
   "source": [
    "camera_odmr_gui._widefield_logic.generate_method_params"
   ]
  },
  {
   "cell_type": "code",
   "execution_count": 8,
   "metadata": {},
   "outputs": [
    {
     "data": {
      "text/plain": [
       "1"
      ]
     },
     "execution_count": 8,
     "metadata": {},
     "output_type": "execute_result"
    }
   ],
   "source": [
    "camera_odmr_gui._widefield_logic.ranges"
   ]
  },
  {
   "cell_type": "code",
   "execution_count": 15,
   "metadata": {
    "collapsed": true
   },
   "outputs": [
    {
     "name": "stdout",
     "output_type": "stream",
     "text": [
      "0\n",
      "name\n",
      "T1WFexp3\n",
      "1\n",
      "tau_start\n",
      "1e-06\n",
      "2\n",
      "tau_end\n",
      "1e-05\n",
      "3\n",
      "num_of_points\n",
      "10\n"
     ]
    }
   ],
   "source": [
    "for param_index, (param_name, param) in enumerate(camera_odmr_gui._widefield_logic.generate_method_params['t1_WF_3exponential'].items()):\n",
    "    print(param_index)\n",
    "    print(param_name)\n",
    "    print(param)"
   ]
  },
  {
   "cell_type": "code",
   "execution_count": 18,
   "metadata": {
    "collapsed": true
   },
   "outputs": [
    {
     "name": "stdout",
     "output_type": "stream",
     "text": [
      "0\n",
      "name\n",
      "rabiWF\n",
      "1\n",
      "tau_start\n",
      "1e-08\n",
      "2\n",
      "tau_step\n",
      "1e-08\n",
      "3\n",
      "num_of_points\n",
      "50\n",
      "4\n",
      "reference\n",
      "False\n"
     ]
    }
   ],
   "source": [
    "for param_index, (param_name, param) in enumerate(camera_odmr_gui._widefield_logic.generate_method_params['rabiWF'].items()):\n",
    "    print(param_index)\n",
    "    print(param_name)\n",
    "    print(param)"
   ]
  },
  {
   "cell_type": "code",
   "execution_count": 19,
   "metadata": {
    "collapsed": true
   },
   "outputs": [
    {
     "data": {
      "text/plain": [
       "{'AEchirpedodmr': <bound method BasicPredefinedGenerator.generate_AEchirpedodmr of <basic_predefined_methods.BasicPredefinedGenerator object at 0x0000019EE5241208>>, 'HHamp': <bound method BasicPredefinedGenerator.generate_HHamp of <basic_predefined_methods.BasicPredefinedGenerator object at 0x0000019EE5241208>>, 'HHpol': <bound method BasicPredefinedGenerator.generate_HHpol of <basic_predefined_methods.BasicPredefinedGenerator object at 0x0000019EE5241208>>, 'HHtau': <bound method BasicPredefinedGenerator.generate_HHtau of <basic_predefined_methods.BasicPredefinedGenerator object at 0x0000019EE5241208>>, 'chirpedodmr': <bound method BasicPredefinedGenerator.generate_chirpedodmr of <basic_predefined_methods.BasicPredefinedGenerator object at 0x0000019EE5241208>>, 'hahnecho': <bound method BasicPredefinedGenerator.generate_hahnecho of <basic_predefined_methods.BasicPredefinedGenerator object at 0x0000019EE5241208>>, 'hahnecho_exp': <bound method BasicPredefinedGenerator.generate_hahnecho_exp of <basic_predefined_methods.BasicPredefinedGenerator object at 0x0000019EE5241208>>, 'idle': <bound method BasicPredefinedGenerator.generate_idle of <basic_predefined_methods.BasicPredefinedGenerator object at 0x0000019EE5241208>>, 'laser_mw_on': <bound method BasicPredefinedGenerator.generate_laser_mw_on of <basic_predefined_methods.BasicPredefinedGenerator object at 0x0000019EE5241208>>, 'laser_on': <bound method BasicPredefinedGenerator.generate_laser_on of <basic_predefined_methods.BasicPredefinedGenerator object at 0x0000019EE5241208>>, 'n_digital_high': <bound method BasicPredefinedGenerator.generate_n_digital_high of <basic_predefined_methods.BasicPredefinedGenerator object at 0x0000019EE5241208>>, 'pulsedodmr': <bound method BasicPredefinedGenerator.generate_pulsedodmr of <basic_predefined_methods.BasicPredefinedGenerator object at 0x0000019EE5241208>>, 'rabi': <bound method BasicPredefinedGenerator.generate_rabi of <basic_predefined_methods.BasicPredefinedGenerator object at 0x0000019EE5241208>>, 'rabiTwo': <bound method BasicPredefinedGenerator.generate_rabiTwo of <basic_predefined_methods.BasicPredefinedGenerator object at 0x0000019EE5241208>>, 'rabiWF': <bound method BasicPredefinedGenerator.generate_rabiWF of <basic_predefined_methods.BasicPredefinedGenerator object at 0x0000019EE5241208>>, 'ramsey': <bound method BasicPredefinedGenerator.generate_ramsey of <basic_predefined_methods.BasicPredefinedGenerator object at 0x0000019EE5241208>>, 'ramsey_from_list': <bound method BasicPredefinedGenerator.generate_ramsey_from_list of <basic_predefined_methods.BasicPredefinedGenerator object at 0x0000019EE5241208>>, 't1': <bound method BasicPredefinedGenerator.generate_t1 of <basic_predefined_methods.BasicPredefinedGenerator object at 0x0000019EE5241208>>, 't1_3exponential': <bound method BasicPredefinedGenerator.generate_t1_3exponential of <basic_predefined_methods.BasicPredefinedGenerator object at 0x0000019EE5241208>>, 't1_WF_3exponential': <bound method BasicPredefinedGenerator.generate_t1_WF_3exponential of <basic_predefined_methods.BasicPredefinedGenerator object at 0x0000019EE5241208>>, 't1_exponential': <bound method BasicPredefinedGenerator.generate_t1_exponential of <basic_predefined_methods.BasicPredefinedGenerator object at 0x0000019EE5241208>>, 't1_sequencing': <bound method BasicPredefinedGenerator.generate_t1_sequencing of <basic_predefined_methods.BasicPredefinedGenerator object at 0x0000019EE5241208>>, 'two_digital_high': <bound method BasicPredefinedGenerator.generate_two_digital_high of <basic_predefined_methods.BasicPredefinedGenerator object at 0x0000019EE5241208>>, 'WF_esr_testing': <bound method BasicPredefinedGenerator.generate_WF_esr_testing of <basic_WF_predefined_methods.BasicPredefinedGenerator object at 0x0000019EE5241C18>>, 'WF_laser_mw_on': <bound method BasicPredefinedGenerator.generate_WF_laser_mw_on of <basic_WF_predefined_methods.BasicPredefinedGenerator object at 0x0000019EE5241C18>>, 'WF_laser_on': <bound method BasicPredefinedGenerator.generate_WF_laser_on of <basic_WF_predefined_methods.BasicPredefinedGenerator object at 0x0000019EE5241C18>>, 'WF_rabi': <bound method BasicPredefinedGenerator.generate_WF_rabi of <basic_WF_predefined_methods.BasicPredefinedGenerator object at 0x0000019EE5241C18>>, 'WF_t1_3exponential': <bound method BasicPredefinedGenerator.generate_WF_t1_3exponential of <basic_WF_predefined_methods.BasicPredefinedGenerator object at 0x0000019EE5241C18>>, 'HHphase_N': <bound method ContDDPredefinedGenerator.generate_HHphase_N of <contdd_predefined_methods.ContDDPredefinedGenerator object at 0x0000019EE5241F98>>, 'HHphase_tau': <bound method ContDDPredefinedGenerator.generate_HHphase_tau of <contdd_predefined_methods.ContDDPredefinedGenerator object at 0x0000019EE5241F98>>, 'rot_echo_N': <bound method ContDDPredefinedGenerator.generate_rot_echo_N of <contdd_predefined_methods.ContDDPredefinedGenerator object at 0x0000019EE5241F98>>, 'rot_echo_tau': <bound method ContDDPredefinedGenerator.generate_rot_echo_tau of <contdd_predefined_methods.ContDDPredefinedGenerator object at 0x0000019EE5241F98>>, 'xy8_freq': <bound method DDPredefinedGenerator.generate_xy8_freq of <dd_predefined_methods.DDPredefinedGenerator object at 0x0000019EE5241390>>, 'xy8_tau': <bound method DDPredefinedGenerator.generate_xy8_tau of <dd_predefined_methods.DDPredefinedGenerator object at 0x0000019EE5241390>>}"
      ]
     },
     "execution_count": 19,
     "metadata": {},
     "output_type": "execute_result"
    }
   ],
   "source": [
    "pulsedmeasurement.pulsedmasterlogic().generate_methods"
   ]
  },
  {
   "cell_type": "code",
   "execution_count": 23,
   "metadata": {
    "collapsed": true
   },
   "outputs": [
    {
     "data": {
      "text/plain": [
       "{'name': <PyQt5.QtWidgets.QLineEdit object at 0x0000019F15AF48B8>, 'length': <qtwidgets.scientific_spinbox.ScienDSpinBox object at 0x0000019F15AF49D8>, 'ranges': <PyQt5.QtWidgets.QCheckBox object at 0x0000019F15AF4B88>}"
      ]
     },
     "execution_count": 23,
     "metadata": {},
     "output_type": "execute_result"
    }
   ],
   "source": [
    "pulsedmeasurement._pm.method_param_widgets['WF_esr_testing']"
   ]
  },
  {
   "cell_type": "code",
   "execution_count": 5,
   "metadata": {},
   "outputs": [
    {
     "data": {
      "image/png": "[encoded data removed]"
     },
     "metadata": {
      "image/png": {
       "height": 437,
       "width": 653
      }
     },
     "output_type": "display_data"
    }
   ],
   "source": [
    "pulsestreamer._seq.plot()"
   ]
  },
  {
   "cell_type": "code",
   "execution_count": null,
   "metadata": {},
   "outputs": [],
   "source": []
  },
  {
   "cell_type": "code",
   "execution_count": 2,
   "metadata": {},
   "outputs": [
    {
     "data": {
      "text/plain": [
       "{'AEchirpedodmr': {'name': 'AllenEberlyChirpODMR', 'mw_freq_center': 2870000000.0, 'freq_range': 500000000.0, 'freq_overlap': 20000000.0, 'num_of_points': 50, 'pulse_length': 5e-07, 'truncation_ratio': 0.1, 'expected_rabi_frequency': 30000000.0, 'expected_t2': 5e-06, 'peak_mw_amplitude': 0.25}, 'HHamp': {'name': 'hh_amp', 'spinlock_length': 2e-05, 'amp_start': 0.05, 'amp_step': 0.01, 'num_of_points': 50}, 'HHpol': {'name': 'hh_pol', 'spinlock_length': 2e-05, 'spinlock_amp': 0.1, 'polarization_steps': 50}, 'HHtau': {'name': 'hh_tau', 'spinlock_amp': 0.1, 'tau_start': 1e-06, 'tau_step': 1e-06, 'num_of_points': 50}, 'chirpedodmr': {'name': 'LinearChirpedODMR', 'mw_freq_center': 2870000000.0, 'freq_range': 500000000.0, 'freq_overlap': 20000000.0, 'num_of_points': 50, 'pulse_length': 5e-07, 'expected_rabi_frequency': 30000000.0, 'expected_t2': 5e-06}, 'hahnecho': {'name': 'hahn_echo', 'tau_start': 0.0, 'tau_step': 1e-06, 'num_of_points': 50, 'alternating': True}, 'hahnecho_exp': {'name': 'hahn_echo', 'tau_start': 1e-06, 'tau_end': 1e-06, 'num_of_points': 50, 'alternating': True}, 'idle': {'name': 'idle', 'length': 3e-06}, 'laser_mw_on': {'name': 'laser_mw_on', 'length': 3e-06}, 'laser_on': {'name': 'laser_on', 'length': 3e-06}, 'n_digital_high': {'name': 'digital_high', 'length': 3e-06, 'digital_channels': '1,2,3,4'}, 'pulsedodmr': {'name': 'pulsedODMR', 'freq_start': 2870000000.0, 'freq_step': 200000.0, 'num_of_points': 50}, 'rabi': {'name': 'rabi', 'tau_start': 1e-08, 'tau_step': 1e-08, 'num_of_points': 50, 'reference': False}, 'rabiTwo': {'name': 'rabiTwo', 'tau_start': 1e-08, 'tau_step': 1e-08, 'num_of_points': 50, 'reference': False}, 'ramsey': {'name': 'ramsey', 'tau_start': 1e-06, 'tau_step': 1e-06, 'num_of_points': 50, 'alternating': True}, 'ramsey_from_list': {'name': 'ramsey', 'tau_list': '[1e-6, 2e-6]', 'alternating': True}, 't1': {'name': 'T1', 'tau_start': 1e-06, 'tau_step': 1e-06, 'num_of_points': 50, 'reference': False}, 't1_3exponential': {'name': 'T1exp3', 'tau_start': 1e-06, 'tau_end': 1e-05, 'num_of_points': 10}, 't1_exponential': {'name': 'T1exp', 'tau_start': 1e-06, 'tau_end': 1e-05, 'num_of_points': 10, 'reference': False}, 't1_sequencing': {'name': 't1_seq', 'tau_start': 1e-06, 'tau_max': 0.001, 'num_of_points': 10}, 'two_digital_high': {'name': 'digital_high', 'length': 3e-06, 'digital_channel1': 'd_ch1', 'digital_channel2': 'd_ch1'}, 'WF_ODMR': {'name': 'ODMR', 'length': 5e-06, 'ranges': True}, 'WF_rabi': {'name': 'rabiWF', 'tau_start': 1e-08, 'tau_step': 1e-08, 'num_of_points': 40, 'reference': False}, 'WF_t1_2exponential': {'name': 'T1WFtwocurve', 'tau_start': 1e-06, 'tau_end': 1e-05, 'num_of_points': 10}, 'WF_t1_3exponential': {'name': 'T1WFexp3', 'tau_start': 1e-06, 'tau_end': 1e-05, 'num_of_points': 10}, 'HHphase_N': {'name': 'HH_Phase_N', 'amp_hh': 0.05, 'tau': 5e-07, 'order_start': 4, 'order_step': 1, 'num_of_points': 50, 'alternating': True}, 'HHphase_tau': {'name': 'HH_Phase', 'amp_hh': 0.5, 'tau_start': 5e-07, 'tau_step': 1e-08, 'num_of_points': 50, 'xy8_order': 4, 'alternating': True}, 'rot_echo_N': {'name': 'rot_echo_N', 'amp_hh': 0.05, 'tau': 5e-07, 'order_start': 4, 'order_step': 1, 'num_of_points': 50, 'alternating': True}, 'rot_echo_tau': {'name': 'rot_echo', 'amp_hh': 0.05, 'tau_start': 5e-07, 'tau_step': 1e-08, 'num_of_points': 50, 'order': 4, 'alternating': True}, 'xy8_freq': {'name': 'xy8_freq', 'freq_start': 100000.0, 'freq_step': 10000.0, 'num_of_points': 50, 'xy8_order': 4, 'alternating': True}, 'xy8_tau': {'name': 'xy8_tau', 'tau_start': 5e-07, 'tau_step': 1e-08, 'num_of_points': 50, 'xy8_order': 4, 'alternating': True}}"
      ]
     },
     "execution_count": 2,
     "metadata": {},
     "output_type": "execute_result"
    }
   ],
   "source": [
    "widefieldmeasurementlogic.generate_method_params"
   ]
  },
  {
   "cell_type": "code",
   "execution_count": 7,
   "metadata": {},
   "outputs": [
    {
     "name": "stderr",
     "output_type": "stream",
     "text": [
      "Traceback (most recent call last):\n",
      "  File \"C:\\Users\\cduPC\\Documents\\GitHub\\qudi\\logic\\jupyterkernel\\qzmqkernel.py\", line 679, in run_code\n",
      "    exec(code_obj, self.user_global_ns, self.user_ns)\n",
      "  File \"<ipython-input-7-caf9f35727e4>\", line 1, in <module>\n",
      "    camera_odmr_gui.measurement\n",
      "AttributeError: 'WidefieldGUI' object has no attribute 'measurement'\n"
     ]
    }
   ],
   "source": [
    "camera_odmr_gui.measurement"
   ]
  },
  {
   "cell_type": "code",
   "execution_count": 39,
   "metadata": {},
   "outputs": [],
   "source": [
    "from pypylon import pylon\n",
    "import time"
   ]
  },
  {
   "cell_type": "code",
   "execution_count": 91,
   "metadata": {},
   "outputs": [
    {
     "data": {
      "text/plain": [
       "('list', True)"
      ]
     },
     "execution_count": 91,
     "metadata": {},
     "output_type": "execute_result"
    }
   ],
   "source": []
  },
  {
   "cell_type": "code",
   "execution_count": 92,
   "metadata": {},
   "outputs": [],
   "source": [
    "widefieldmeasurementlogic.odmr_raw_data = np.zeros([180,180,40])"
   ]
  },
  {
   "cell_type": "code",
   "execution_count": 93,
   "metadata": {},
   "outputs": [],
   "source": [
    "widefieldmeasurementlogic.reset_sweep()"
   ]
  },
  {
   "cell_type": "code",
   "execution_count": 94,
   "metadata": {},
   "outputs": [
    {
     "name": "stderr",
     "output_type": "stream",
     "text": [
      "Traceback (most recent call last):\n",
      "  File \"C:\\Users\\cduPC\\Documents\\GitHub\\qudi\\logic\\jupyterkernel\\qzmqkernel.py\", line 679, in run_code\n",
      "    exec(code_obj, self.user_global_ns, self.user_ns)\n",
      "  File \"<ipython-input-94-9a08f59fb154>\", line 1, in <module>\n",
      "    widefieldmeasurementlogic._widefield_camera.begin_acquisition(40)\n",
      "  File \"C:\\Users\\cduPC\\Documents\\GitHub\\qudi\\hardware\\camera\\basler\\Basler_camera.py\", line 625, in begin_acquisition\n",
      "    self.camera.StartGrabbingMax(num_imgs)\n",
      "  File \"C:\\Users\\cduPC\\anaconda3\\envs\\qudi\\lib\\site-packages\\pypylon\\pylon.py\", line 3428, in StartGrabbingMax\n",
      "    return _pylon.InstantCamera_StartGrabbingMax(self, *args)\n",
      "_genicam.RuntimeException: Grabbing has already been started. : RuntimeException thrown (file 'instantcameraimpl.h', line 738)\n"
     ]
    }
   ],
   "source": [
    "widefieldmeasurementlogic._widefield_camera.begin_acquisition(4)"
   ]
  },
  {
   "cell_type": "code",
   "execution_count": 81,
   "metadata": {},
   "outputs": [
    {
     "data": {
      "text/plain": [
       "11"
      ]
     },
     "execution_count": 81,
     "metadata": {},
     "output_type": "execute_result"
    }
   ],
   "source": [
    "len(widefieldmeasurementlogic.final_freq_list)"
   ]
  },
  {
   "cell_type": "code",
   "execution_count": 95,
   "metadata": {},
   "outputs": [],
   "source": [
    "mw_source_smb100B._command_wait('SOUR1:LIST:TRIG:EXEC')"
   ]
  },
  {
   "cell_type": "code",
   "execution_count": 96,
   "metadata": {},
   "outputs": [
    {
     "data": {
      "text/plain": [
       "True"
      ]
     },
     "execution_count": 96,
     "metadata": {},
     "output_type": "execute_result"
    }
   ],
   "source": [
    "cameraBasler.camera.IsGrabbing()"
   ]
  },
  {
   "cell_type": "code",
   "execution_count": 32,
   "metadata": {},
   "outputs": [],
   "source": [
    "error,new_counts = widefieldmeasurementlogic._widefield_camera.grab(len(widefieldmeasurementlogic.final_freq_list))"
   ]
  },
  {
   "cell_type": "code",
   "execution_count": 97,
   "metadata": {},
   "outputs": [
    {
     "name": "stdout",
     "output_type": "stream",
     "text": [
      "1\n",
      "2\n",
      "3\n",
      "4\n",
      "5\n",
      "6\n",
      "7\n",
      "8\n",
      "9\n",
      "10\n",
      "11\n",
      "12\n",
      "13\n",
      "14\n",
      "15\n",
      "16\n",
      "17\n",
      "18\n",
      "19\n",
      "20\n",
      "21\n",
      "22\n",
      "23\n",
      "24\n"
     ]
    }
   ],
   "source": [
    "imgs = np.zeros((180,180,40),dtype='float64')\n",
    "ind = 0\n",
    "\n",
    "while cameraBasler.camera.IsGrabbing():\n",
    "    output = cameraBasler.camera.RetrieveResult(200000,pylon.TimeoutHandling_ThrowException)\n",
    "    if output.GrabSucceeded():\n",
    "        imgs[:,:,ind] += output.Array\n",
    "        ind += 1\n",
    "        print(ind)\n"
   ]
  },
  {
   "cell_type": "code",
   "execution_count": null,
   "metadata": {},
   "outputs": [],
   "source": []
  },
  {
   "cell_type": "code",
   "execution_count": 100,
   "metadata": {},
   "outputs": [
    {
     "data": {
      "text/plain": [
       "(180, 180, 40)"
      ]
     },
     "execution_count": 100,
     "metadata": {},
     "output_type": "execute_result"
    }
   ],
   "source": [
    "imgs.shape"
   ]
  },
  {
   "cell_type": "code",
   "execution_count": 112,
   "metadata": {},
   "outputs": [
    {
     "data": {
      "text/plain": [
       "array([[3., 0., 1., ..., 0., 1., 0.],\n",
       "       [0., 0., 2., ..., 3., 0., 0.],\n",
       "       [0., 2., 2., ..., 0., 1., 1.],\n",
       "       ...,\n",
       "       [2., 1., 0., ..., 0., 0., 1.],\n",
       "       [0., 0., 0., ..., 0., 0., 0.],\n",
       "       [0., 0., 0., ..., 3., 2., 2.]])"
      ]
     },
     "execution_count": 112,
     "metadata": {},
     "output_type": "execute_result"
    }
   ],
   "source": [
    "imgs[:,:,23]"
   ]
  },
  {
   "cell_type": "code",
   "execution_count": 3,
   "metadata": {},
   "outputs": [],
   "source": [
    "selff = widefieldmeasurementlogic"
   ]
  },
  {
   "cell_type": "code",
   "execution_count": 4,
   "metadata": {},
   "outputs": [
    {
     "data": {
      "text/plain": [
       "array([2.800e+09, 2.802e+09, 2.804e+09, 2.806e+09, 2.808e+09, 2.810e+09,\n",
       "       2.812e+09, 2.814e+09, 2.816e+09, 2.818e+09, 2.820e+09, 2.822e+09,\n",
       "       2.824e+09, 2.826e+09, 2.828e+09, 2.830e+09, 2.832e+09, 2.834e+09,\n",
       "       2.836e+09, 2.838e+09, 2.840e+09, 2.842e+09, 2.844e+09, 2.846e+09,\n",
       "       2.848e+09, 2.850e+09, 2.852e+09, 2.854e+09, 2.856e+09, 2.858e+09,\n",
       "       2.860e+09, 2.862e+09, 2.864e+09, 2.866e+09, 2.868e+09, 2.870e+09,\n",
       "       2.872e+09, 2.874e+09, 2.876e+09, 2.878e+09, 2.880e+09, 2.882e+09,\n",
       "       2.884e+09, 2.886e+09, 2.888e+09, 2.890e+09, 2.892e+09, 2.894e+09,\n",
       "       2.896e+09, 2.898e+09, 2.900e+09, 2.902e+09, 2.904e+09, 2.906e+09,\n",
       "       2.908e+09, 2.910e+09, 2.912e+09, 2.914e+09, 2.916e+09, 2.918e+09,\n",
       "       2.920e+09, 2.922e+09, 2.924e+09, 2.926e+09, 2.928e+09, 2.930e+09,\n",
       "       2.932e+09, 2.934e+09, 2.936e+09, 2.938e+09, 2.940e+09, 2.942e+09,\n",
       "       2.944e+09, 2.946e+09, 2.948e+09, 2.950e+09])"
      ]
     },
     "execution_count": 4,
     "metadata": {},
     "output_type": "execute_result"
    }
   ],
   "source": [
    "selff.final_freq_list"
   ]
  },
  {
   "cell_type": "code",
   "execution_count": 117,
   "metadata": {},
   "outputs": [
    {
     "data": {
      "text/plain": [
       "('cw', False)"
      ]
     },
     "execution_count": 117,
     "metadata": {},
     "output_type": "execute_result"
    }
   ],
   "source": [
    "selff.mw_off()"
   ]
  },
  {
   "cell_type": "code",
   "execution_count": 10,
   "metadata": {},
   "outputs": [
    {
     "data": {
      "text/plain": [
       "range(0, 76)"
      ]
     },
     "execution_count": 10,
     "metadata": {},
     "output_type": "execute_result"
    }
   ],
   "source": [
    "range(len(selff.final_freq_list))"
   ]
  },
  {
   "cell_type": "code",
   "execution_count": 11,
   "metadata": {},
   "outputs": [
    {
     "data": {
      "text/plain": [
       "(180, 180, 76)"
      ]
     },
     "execution_count": 11,
     "metadata": {},
     "output_type": "execute_result"
    }
   ],
   "source": [
    "raw_data.shape"
   ]
  },
  {
   "cell_type": "code",
   "execution_count": 12,
   "metadata": {},
   "outputs": [
    {
     "data": {
      "text/plain": [
       "(180, 180, 1)"
      ]
     },
     "execution_count": 12,
     "metadata": {},
     "output_type": "execute_result"
    }
   ],
   "source": [
    "new_counts.shape"
   ]
  },
  {
   "cell_type": "code",
   "execution_count": 14,
   "metadata": {},
   "outputs": [
    {
     "data": {
      "text/plain": [
       "array([[[27., 28., 29., ..., 29., 31., 36.],\n",
       "        [30., 37., 33., ..., 21., 35., 27.],\n",
       "        [31., 27., 27., ..., 35., 33., 30.],\n",
       "        ...,\n",
       "        [35., 33., 39., ..., 44., 32., 32.],\n",
       "        [42., 32., 40., ..., 34., 37., 31.],\n",
       "        [43., 31., 35., ..., 44., 34., 36.]],\n",
       "\n",
       "       [[33., 28., 31., ..., 32., 32., 32.],\n",
       "        [29., 24., 26., ..., 27., 25., 27.],\n",
       "        [27., 35., 35., ..., 29., 34., 27.],\n",
       "        ...,\n",
       "        [33., 27., 39., ..., 30., 36., 33.],\n",
       "        [36., 29., 34., ..., 29., 37., 30.],\n",
       "        [32., 44., 33., ..., 32., 32., 33.]],\n",
       "\n",
       "       [[34., 30., 30., ..., 24., 26., 23.],\n",
       "        [34., 28., 37., ..., 38., 24., 28.],\n",
       "        [26., 33., 28., ..., 24., 25., 30.],\n",
       "        ...,\n",
       "        [29., 32., 34., ..., 29., 31., 31.],\n",
       "        [25., 32., 28., ..., 34., 37., 32.],\n",
       "        [33., 38., 30., ..., 36., 31., 32.]],\n",
       "\n",
       "       ...,\n",
       "\n",
       "       [[33., 27., 35., ..., 32., 28., 27.],\n",
       "        [23., 27., 33., ..., 30., 34., 41.],\n",
       "        [25., 28., 31., ..., 34., 37., 32.],\n",
       "        ...,\n",
       "        [21., 28., 33., ..., 28., 30., 30.],\n",
       "        [29., 23., 27., ..., 28., 30., 27.],\n",
       "        [30., 27., 24., ..., 22., 27., 22.]],\n",
       "\n",
       "       [[29., 34., 26., ..., 23., 34., 36.],\n",
       "        [29., 32., 27., ..., 35., 32., 34.],\n",
       "        [26., 33., 27., ..., 33., 36., 40.],\n",
       "        ...,\n",
       "        [23., 22., 29., ..., 30., 25., 26.],\n",
       "        [20., 27., 25., ..., 26., 31., 27.],\n",
       "        [27., 29., 27., ..., 23., 31., 32.]],\n",
       "\n",
       "       [[27., 34., 32., ..., 33., 32., 32.],\n",
       "        [31., 31., 22., ..., 34., 26., 32.],\n",
       "        [35., 34., 31., ..., 28., 31., 35.],\n",
       "        ...,\n",
       "        [19., 24., 22., ..., 23., 19., 29.],\n",
       "        [28., 28., 21., ..., 25., 22., 31.],\n",
       "        [27., 33., 31., ..., 31., 27., 27.]]])"
      ]
     },
     "execution_count": 14,
     "metadata": {},
     "output_type": "execute_result"
    }
   ],
   "source": [
    "raw_data = np.zeros([180,180,len(selff.final_freq_list)])\n",
    "\n",
    "selff._pulser.pulser_on(n=-1,final=selff._pulser._laser_off_state) \n",
    "                     \n",
    "selff.mw_cw_on()\n",
    "                     \n",
    "for i in range(len(selff.final_freq_list)):\n",
    "     selff._mw_device.set_frequency(selff.final_freq_list[i])\n",
    "     selff._widefield_camera.begin_acquisition(1)\n",
    "     erorr,new_counts = selff._widefield_camera.grab(1)\n",
    "     raw_data[:,:,i] = np.squeeze(new_counts)\n",
    "    \n",
    "selff.mw_off()\n",
    "selff._pulser.pulser_off()\n",
    "\n",
    "raw_data"
   ]
  },
  {
   "cell_type": "code",
   "execution_count": 14,
   "metadata": {},
   "outputs": [
    {
     "name": "stderr",
     "output_type": "stream",
     "text": [
      "Traceback (most recent call last):\n",
      "  File \"C:\\Users\\cduPC\\Documents\\GitHub\\qudi\\logic\\jupyterkernel\\qzmqkernel.py\", line 679, in run_code\n",
      "    exec(code_obj, self.user_global_ns, self.user_ns)\n",
      "  File \"<ipython-input-14-fb18a16c1bd9>\", line 1, in <module>\n",
      "    raw_data.shape\n",
      "NameError: name 'raw_data' is not defined\n"
     ]
    }
   ],
   "source": [
    "raw_data.shape"
   ]
  },
  {
   "cell_type": "code",
   "execution_count": 139,
   "metadata": {},
   "outputs": [
    {
     "data": {
      "text/plain": [
       "array([2.800e+09, 2.802e+09, 2.804e+09, 2.806e+09, 2.808e+09, 2.810e+09,\n",
       "       2.812e+09, 2.814e+09, 2.816e+09, 2.818e+09, 2.820e+09])"
      ]
     },
     "execution_count": 139,
     "metadata": {},
     "output_type": "execute_result"
    }
   ],
   "source": [
    "selff.final_freq_list"
   ]
  },
  {
   "cell_type": "code",
   "execution_count": 15,
   "metadata": {},
   "outputs": [],
   "source": [
    "from matplotlib import pyplot as plt\n"
   ]
  },
  {
   "cell_type": "code",
   "execution_count": 16,
   "metadata": {},
   "outputs": [],
   "source": [
    "selff= widefieldmeasurementlogic"
   ]
  },
  {
   "cell_type": "code",
   "execution_count": 17,
   "metadata": {},
   "outputs": [
    {
     "data": {
      "text/plain": [
       "(180, 180, 76)"
      ]
     },
     "execution_count": 17,
     "metadata": {},
     "output_type": "execute_result"
    }
   ],
   "source": [
    "selff.odmr_raw_data.shape"
   ]
  },
  {
   "cell_type": "code",
   "execution_count": 19,
   "metadata": {},
   "outputs": [
    {
     "data": {
      "image/png": "[encoded data removed]"
     },
     "metadata": {
      "image/png": {
       "height": 361,
       "width": 571
      }
     },
     "output_type": "display_data"
    }
   ],
   "source": [
    "plt.plot(selff.odmr_raw_data[90,90,:])\n",
    "plt.show()"
   ]
  },
  {
   "cell_type": "code",
   "execution_count": 1,
   "metadata": {},
   "outputs": [],
   "source": [
    "final_freq_list = []\n",
    "selff = widefieldmeasurementlogic"
   ]
  },
  {
   "cell_type": "code",
   "execution_count": 2,
   "metadata": {},
   "outputs": [],
   "source": [
    "selff.frequency_lists = []"
   ]
  },
  {
   "cell_type": "code",
   "execution_count": 4,
   "metadata": {},
   "outputs": [],
   "source": [
    "for mw_start, mw_stop, mw_step in zip(selff.mw_starts, selff.mw_stops, selff.mw_steps):\n",
    "    freqs = np.arange(mw_start, mw_stop + mw_step, mw_step)\n",
    "    final_freq_list.extend(freqs)\n",
    "    selff.frequency_lists.append(freqs)\n"
   ]
  },
  {
   "cell_type": "code",
   "execution_count": 15,
   "metadata": {
    "collapsed": true
   },
   "outputs": [
    {
     "data": {
      "text/plain": [
       "[2820000000.0, 2822000000.0, 2824000000.0, 2826000000.0, 2828000000.0, 2830000000.0, 2832000000.0, 2834000000.0, 2836000000.0, 2838000000.0, 2840000000.0, 2842000000.0, 2844000000.0, 2846000000.0, 2848000000.0, 2850000000.0, 2852000000.0, 2854000000.0, 2856000000.0, 2858000000.0, 2860000000.0, 2862000000.0, 2864000000.0, 2866000000.0, 2868000000.0, 2870000000.0, 2872000000.0, 2874000000.0, 2876000000.0, 2878000000.0, 2880000000.0, 2882000000.0, 2884000000.0, 2886000000.0, 2888000000.0, 2890000000.0, 2892000000.0, 2894000000.0, 2896000000.0, 2898000000.0, 2900000000.0, 2902000000.0, 2904000000.0, 2906000000.0, 2908000000.0, 2910000000.0, 2912000000.0, 2914000000.0, 2916000000.0, 2918000000.0, 2920000000.0, 2922000000.0, 2924000000.0, 2926000000.0, 2928000000.0, 2930000000.0, 2932000000.0, 2934000000.0, 2936000000.0, 2938000000.0, 2940000000.0, 2942000000.0, 2944000000.0, 2946000000.0, 2948000000.0, 2950000000.0, 2952000000.0, 2954000000.0, 2956000000.0, 2958000000.0, 2960000000.0, 2962000000.0, 2964000000.0, 2966000000.0, 2968000000.0, 2970000000.0, 2972000000.0, 2974000000.0, 2976000000.0, 2978000000.0, 2980000000.0, 2982000000.0, 2984000000.0, 2986000000.0, 2988000000.0, 2990000000.0, 2992000000.0, 2994000000.0, 2996000000.0, 2998000000.0, 3000000000.0, 2820000000.0, 2822000000.0, 2824000000.0, 2826000000.0, 2828000000.0, 2830000000.0, 2832000000.0, 2834000000.0, 2836000000.0, 2838000000.0, 2840000000.0, 2842000000.0, 2844000000.0, 2846000000.0, 2848000000.0, 2850000000.0, 2852000000.0, 2854000000.0, 2856000000.0, 2858000000.0, 2860000000.0, 2862000000.0, 2864000000.0, 2866000000.0, 2868000000.0, 2870000000.0, 2872000000.0, 2874000000.0, 2876000000.0, 2878000000.0, 2880000000.0, 2882000000.0, 2884000000.0, 2886000000.0, 2888000000.0, 2890000000.0, 2892000000.0, 2894000000.0, 2896000000.0, 2898000000.0, 2900000000.0, 2902000000.0, 2904000000.0, 2906000000.0, 2908000000.0, 2910000000.0, 2912000000.0, 2914000000.0, 2916000000.0, 2918000000.0, 2920000000.0, 2922000000.0, 2924000000.0, 2926000000.0, 2928000000.0, 2930000000.0, 2932000000.0, 2934000000.0, 2936000000.0, 2938000000.0, 2940000000.0, 2942000000.0, 2944000000.0, 2946000000.0, 2948000000.0, 2950000000.0, 2952000000.0, 2954000000.0, 2956000000.0, 2958000000.0, 2960000000.0, 2962000000.0, 2964000000.0, 2966000000.0, 2968000000.0, 2970000000.0, 2972000000.0, 2974000000.0, 2976000000.0, 2978000000.0, 2980000000.0, 2982000000.0, 2984000000.0, 2986000000.0, 2988000000.0, 2990000000.0, 2992000000.0, 2994000000.0, 2996000000.0, 2998000000.0, 3000000000.0]"
      ]
     },
     "execution_count": 15,
     "metadata": {},
     "output_type": "execute_result"
    }
   ],
   "source": [
    "final_freq_list"
   ]
  },
  {
   "cell_type": "code",
   "execution_count": 16,
   "metadata": {},
   "outputs": [
    {
     "data": {
      "text/plain": [
       "182"
      ]
     },
     "execution_count": 16,
     "metadata": {},
     "output_type": "execute_result"
    }
   ],
   "source": [
    "len(final_freq_list)"
   ]
  },
  {
   "cell_type": "code",
   "execution_count": 9,
   "metadata": {},
   "outputs": [],
   "source": [
    "if type(selff.final_freq_list) == list:\n",
    "    selff.final_freq_list = np.array(final_freq_list)\n",
    "    print(1)"
   ]
  },
  {
   "cell_type": "code",
   "execution_count": 14,
   "metadata": {},
   "outputs": [
    {
     "data": {
      "text/plain": [
       "<class 'numpy.ndarray'>"
      ]
     },
     "execution_count": 14,
     "metadata": {},
     "output_type": "execute_result"
    }
   ],
   "source": [
    "type(selff.final_freq_list)"
   ]
  },
  {
   "cell_type": "code",
   "execution_count": 11,
   "metadata": {},
   "outputs": [],
   "source": [
    "selff.odmr_plot_x = np.array(selff.final_freq_list)\n",
    "selff.odmr_plot_y = np.zeros(selff.odmr_plot_x.size)"
   ]
  },
  {
   "cell_type": "code",
   "execution_count": 13,
   "metadata": {},
   "outputs": [
    {
     "data": {
      "text/plain": [
       "array([2.800e+09, 2.802e+09, 2.804e+09, 2.806e+09, 2.808e+09, 2.810e+09,\n",
       "       2.812e+09, 2.814e+09, 2.816e+09, 2.818e+09, 2.820e+09, 2.822e+09,\n",
       "       2.824e+09, 2.826e+09, 2.828e+09, 2.830e+09, 2.832e+09, 2.834e+09,\n",
       "       2.836e+09, 2.838e+09, 2.840e+09, 2.842e+09, 2.844e+09, 2.846e+09,\n",
       "       2.848e+09, 2.850e+09, 2.852e+09, 2.854e+09, 2.856e+09, 2.858e+09,\n",
       "       2.860e+09, 2.862e+09, 2.864e+09, 2.866e+09, 2.868e+09, 2.870e+09,\n",
       "       2.872e+09, 2.874e+09, 2.876e+09, 2.878e+09, 2.880e+09, 2.882e+09,\n",
       "       2.884e+09, 2.886e+09, 2.888e+09, 2.890e+09, 2.892e+09, 2.894e+09,\n",
       "       2.896e+09, 2.898e+09, 2.900e+09, 2.902e+09, 2.904e+09, 2.906e+09,\n",
       "       2.908e+09, 2.910e+09, 2.912e+09, 2.914e+09, 2.916e+09, 2.918e+09,\n",
       "       2.920e+09, 2.922e+09, 2.924e+09, 2.926e+09, 2.928e+09, 2.930e+09,\n",
       "       2.932e+09, 2.934e+09, 2.936e+09, 2.938e+09, 2.940e+09, 2.942e+09,\n",
       "       2.944e+09, 2.946e+09, 2.948e+09, 2.950e+09])"
      ]
     },
     "execution_count": 13,
     "metadata": {},
     "output_type": "execute_result"
    }
   ],
   "source": [
    "selff.final_freq_list"
   ]
  },
  {
   "cell_type": "code",
   "execution_count": 17,
   "metadata": {},
   "outputs": [
    {
     "data": {
      "text/plain": [
       "76"
      ]
     },
     "execution_count": 17,
     "metadata": {},
     "output_type": "execute_result"
    }
   ],
   "source": [
    "len(selff.final_freq_list)"
   ]
  },
  {
   "cell_type": "code",
   "execution_count": 2,
   "metadata": {},
   "outputs": [
    {
     "name": "stderr",
     "output_type": "stream",
     "text": [
      "Traceback (most recent call last):\n",
      "  File \"C:\\Users\\cduPC\\Documents\\GitHub\\qudi\\logic\\jupyterkernel\\qzmqkernel.py\", line 679, in run_code\n",
      "    exec(code_obj, self.user_global_ns, self.user_ns)\n",
      "  File \"<ipython-input-2-b147499b5374>\", line 1, in <module>\n",
      "    wide\n",
      "NameError: name 'wide' is not defined\n"
     ]
    }
   ],
   "source": [
    "wide"
   ]
  },
  {
   "cell_type": "code",
   "execution_count": 50,
   "metadata": {},
   "outputs": [
    {
     "name": "stderr",
     "output_type": "stream",
     "text": [
      "Traceback (most recent call last):\n",
      "  File \"C:\\Users\\cduPC\\Documents\\GitHub\\qudi\\logic\\jupyterkernel\\qzmqkernel.py\", line 679, in run_code\n",
      "    exec(code_obj, self.user_global_ns, self.user_ns)\n",
      "  File \"<ipython-input-50-2dd5fdbceed9>\", line 3, in <module>\n",
      "    from collections import Dict\n",
      "ImportError: cannot import name 'Dict'\n"
     ]
    }
   ],
   "source": [
    "import time\n",
    "from collections import OrderedDict\n",
    "from collections import Dict"
   ]
  },
  {
   "cell_type": "code",
   "execution_count": 5,
   "metadata": {},
   "outputs": [],
   "source": [
    "self = widefieldmeasurementlogic"
   ]
  },
  {
   "cell_type": "code",
   "execution_count": 22,
   "metadata": {},
   "outputs": [],
   "source": [
    "timestamp = datetime.datetime.now()\n",
    "filepath = self._save_logic.get_path_for_module(module_name='ODMR')\n",
    "tag = ''\n",
    "if len(tag) > 0:\n",
    "    filelabel_raw = '{0}_ODMR_data_raw'.format(tag)\n",
    "else:\n",
    "    filelabel_raw = 'ODMR_data_raw'\n",
    "    \n",
    "\n",
    "data_raw = OrderedDict()\n",
    "data_raw['count_data'] = self.odmr_raw_data\n",
    "parameters = OrderedDict()\n",
    "parameters['Microwave CW Power (dBm)'] = self.cw_mw_power\n",
    "parameters['Microwave Sweep Power (dBm)'] = self.sweep_mw_power\n",
    "parameters['Run Time (s)'] = self.run_time\n",
    "parameters['Number of frequency sweeps (#)'] = self.elapsed_sweeps\n",
    "parameters['Start Frequencies (Hz)'] = self.mw_starts\n",
    "parameters['Stop Frequencies (Hz)'] = self.mw_stops\n",
    "parameters['Step sizes (Hz)'] = self.mw_steps\n",
    "parameters['Frame Rate (Hz)'] = self.frame_rate"
   ]
  },
  {
   "cell_type": "code",
   "execution_count": 32,
   "metadata": {},
   "outputs": [],
   "source": [
    "self._save_logic.save_data(data_raw,\n",
    "                            filepath=filepath,\n",
    "                            parameters=parameters,\n",
    "                            filelabel=filelabel_raw,\n",
    "                            fmt='%.6e',\n",
    "                            delimiter='\\t',\n",
    "                            timestamp=timestamp)"
   ]
  },
  {
   "cell_type": "code",
   "execution_count": 51,
   "metadata": {},
   "outputs": [],
   "source": [
    "data_raw_dict = dict()\n",
    "data_raw_dict['countdata'] = self.odmr_raw_data"
   ]
  },
  {
   "cell_type": "code",
   "execution_count": 102,
   "metadata": {},
   "outputs": [],
   "source": [
    "data_raw = OrderedDict()\n",
    "data_raw['count_data'] = self.odmr_raw_data\n",
    "data_raw['sweepvals'] = self.odmr_plot_x\n",
    "data_raw['CWPower_dBm'] = self.cw_mw_power\n",
    "data_raw['SweepPower_dBm'] = self.sweep_mw_power\n",
    "data_raw['RunTime_s'] = self.run_time\n",
    "data_raw['NumSweeps'] = self.elapsed_sweeps\n",
    "data_raw['StartFreq_Hz'] = self.mw_starts\n",
    "data_raw['StopFreq_Hz'] = self.mw_stops\n",
    "data_raw['StepSize_Hz'] = self.mw_steps\n",
    "data_raw['FrameRate_Hz'] = self.frame_rate"
   ]
  },
  {
   "cell_type": "code",
   "execution_count": 33,
   "metadata": {},
   "outputs": [],
   "source": [
    "import numpy, scipy.io"
   ]
  },
  {
   "cell_type": "code",
   "execution_count": 91,
   "metadata": {},
   "outputs": [
    {
     "data": {
      "text/plain": [
       "'C:\\\\Data\\\\Qudi_Data\\\\2023\\\\04\\\\20230427\\\\ODMR'"
      ]
     },
     "execution_count": 91,
     "metadata": {},
     "output_type": "execute_result"
    }
   ],
   "source": [
    "filepath"
   ]
  },
  {
   "cell_type": "code",
   "execution_count": 92,
   "metadata": {},
   "outputs": [],
   "source": []
  },
  {
   "cell_type": "code",
   "execution_count": 107,
   "metadata": {},
   "outputs": [],
   "source": [
    "filelong = filepath + '/WF_04272023_6.mat'\n",
    "scipy.io.savemat(filelong,data_raw,appendmat = True)"
   ]
  },
  {
   "cell_type": "code",
   "execution_count": 104,
   "metadata": {},
   "outputs": [],
   "source": [
    "directory = 'C:/Users/cduPC/Documents/Measurement Data/QUDI/Widefield_data/' + '/' + timestamp.strftime(\"%Y%m%d\")\n",
    "if not os.path.isdir(directory):\n",
    "    os.makedirs(directory)"
   ]
  },
  {
   "cell_type": "code",
   "execution_count": 97,
   "metadata": {},
   "outputs": [],
   "source": [
    "import os"
   ]
  },
  {
   "cell_type": "code",
   "execution_count": 108,
   "metadata": {},
   "outputs": [
    {
     "data": {
      "text/plain": [
       "'C:/Users/cduPC/Documents/Measurement Data/QUDI/Widefield_data//20230427'"
      ]
     },
     "execution_count": 108,
     "metadata": {},
     "output_type": "execute_result"
    }
   ],
   "source": [
    "directory"
   ]
  },
  {
   "cell_type": "code",
   "execution_count": 109,
   "metadata": {},
   "outputs": [
    {
     "name": "stderr",
     "output_type": "stream",
     "text": [
      "Traceback (most recent call last):\n",
      "  File \"C:\\Users\\cduPC\\Documents\\GitHub\\qudi\\logic\\jupyterkernel\\qzmqkernel.py\", line 679, in run_code\n",
      "    exec(code_obj, self.user_global_ns, self.user_ns)\n",
      "  File \"<ipython-input-109-489d80c2f2ab>\", line 1, in <module>\n",
      "    today\n",
      "NameError: name 'today' is not defined\n"
     ]
    }
   ],
   "source": [
    "today"
   ]
  },
  {
   "cell_type": "code",
   "execution_count": 110,
   "metadata": {
    "scrolled": true
   },
   "outputs": [
    {
     "name": "stderr",
     "output_type": "stream",
     "text": [
      "Traceback (most recent call last):\n",
      "  File \"C:\\Users\\cduPC\\Documents\\GitHub\\qudi\\logic\\jupyterkernel\\qzmqkernel.py\", line 679, in run_code\n",
      "    exec(code_obj, self.user_global_ns, self.user_ns)\n",
      "  File \"<ipython-input-110-d621d687844e>\", line 1, in <module>\n",
      "    today = datetime.today()\n",
      "AttributeError: module 'datetime' has no attribute 'today'\n"
     ]
    }
   ],
   "source": [
    "datetime"
   ]
  },
  {
   "cell_type": "code",
   "execution_count": 13,
   "metadata": {},
   "outputs": [],
   "source": [
    "timestamp = datetime.datetime.now()"
   ]
  },
  {
   "cell_type": "code",
   "execution_count": 14,
   "metadata": {},
   "outputs": [
    {
     "data": {
      "text/plain": [
       "datetime.datetime(2023, 4, 27, 16, 22, 54, 614430)"
      ]
     },
     "execution_count": 14,
     "metadata": {},
     "output_type": "execute_result"
    }
   ],
   "source": [
    "timestamp"
   ]
  },
  {
   "cell_type": "code",
   "execution_count": 23,
   "metadata": {},
   "outputs": [
    {
     "data": {
      "text/plain": [
       "6"
      ]
     },
     "execution_count": 23,
     "metadata": {},
     "output_type": "execute_result"
    }
   ],
   "source": [
    "self = savelogic\n",
    "import os\n",
    "directory = self._save_path + '/' + timestamp.strftime(\"%Y%m%d\")\n",
    "directory\n",
    "if not os.path.isdir(directory):\n",
    "    os.makedirs(directory)\n",
    "    \n",
    "index = len(os.listdir(directory)) + 1\n",
    "index"
   ]
  },
  {
   "cell_type": "code",
   "execution_count": 24,
   "metadata": {},
   "outputs": [
    {
     "data": {
      "text/plain": [
       "'C:/Users/cduPC/Documents/Measurement_Data/QUDI/Widefield_data//20230427'"
      ]
     },
     "execution_count": 24,
     "metadata": {},
     "output_type": "execute_result"
    }
   ],
   "source": [
    "directory"
   ]
  },
  {
   "cell_type": "code",
   "execution_count": 15,
   "metadata": {},
   "outputs": [
    {
     "name": "stderr",
     "output_type": "stream",
     "text": [
      "Traceback (most recent call last):\n",
      "  File \"C:\\Users\\cduPC\\Documents\\GitHub\\qudi\\logic\\jupyterkernel\\qzmqkernel.py\", line 679, in run_code\n",
      "    exec(code_obj, self.user_global_ns, self.user_ns)\n",
      "  File \"<ipython-input-15-b39f7c72dfb6>\", line 1, in <module>\n",
      "    directory = self._save_path + '/' + timestamp.strftime(\"%Y%m%d\")\n",
      "NameError: name 'self' is not defined\n"
     ]
    }
   ],
   "source": [
    "directory = self._save_path + '/' + timestamp.strftime(\"%Y%m%d\")\n",
    "if not os.path.isdir(directory):\n",
    "    os.makedirs(directory)"
   ]
  },
  {
   "cell_type": "code",
   "execution_count": null,
   "metadata": {},
   "outputs": [],
   "source": [
    "timestamp = datetime.datetime.now()\n",
    "\n",
    "directory = self._save_path + '/' + timestamp.strftime(\"%Y%m%d\")\n",
    "if not os.path.isdir(directory):\n",
    "    os.makedirs(directory)\n",
    "\n",
    "#save the WF data\n",
    "index = len(os.listdir(directory)) + 1\n",
    "\n",
    "# savedict = {'saveData':self._WF_data[:,:,0:data_len], 'frequency':self._frequencies}\n",
    "\n",
    "savedict = data_raw\n",
    "file_path = directory + '/' + meas_type + '_' + str(index) + '.mat'\n",
    "\n",
    "sio.savemat(file_path, savedict)"
   ]
  },
  {
   "cell_type": "code",
   "execution_count": 2,
   "metadata": {},
   "outputs": [
    {
     "data": {
      "text/plain": [
       "2"
      ]
     },
     "execution_count": 2,
     "metadata": {},
     "output_type": "execute_result"
    }
   ],
   "source": [
    "cone = False\n",
    "\n",
    "number = 1 if cone else 2\n",
    "\n",
    "number"
   ]
  },
  {
   "cell_type": "code",
   "execution_count": 4,
   "metadata": {},
   "outputs": [],
   "source": [
    "tau_array = [1,2,3]"
   ]
  },
  {
   "cell_type": "code",
   "execution_count": 5,
   "metadata": {},
   "outputs": [
    {
     "data": {
      "text/plain": [
       "[1, 2, 3, 1, 2, 3]"
      ]
     },
     "execution_count": 5,
     "metadata": {},
     "output_type": "execute_result"
    }
   ],
   "source": [
    "tau_array + tau_array"
   ]
  },
  {
   "cell_type": "code",
   "execution_count": 30,
   "metadata": {},
   "outputs": [],
   "source": [
    "self = widefieldmeasurementlogic\n",
    "self._widefield_camera.begin_acquisition(2)"
   ]
  },
  {
   "cell_type": "code",
   "execution_count": 29,
   "metadata": {},
   "outputs": [],
   "source": [
    "cameraBasler.camera.Close()\n",
    "cameraBasler.camera.Open()\n",
    "# cameraBasler.camera.TriggerMode = \"On\""
   ]
  },
  {
   "cell_type": "code",
   "execution_count": 31,
   "metadata": {},
   "outputs": [
    {
     "data": {
      "text/plain": [
       "True"
      ]
     },
     "execution_count": 31,
     "metadata": {},
     "output_type": "execute_result"
    }
   ],
   "source": [
    "cameraBasler.camera.IsGrabbing()"
   ]
  },
  {
   "cell_type": "code",
   "execution_count": 32,
   "metadata": {},
   "outputs": [],
   "source": [
    "error,new_counts = self._widefield_camera.grab(2)"
   ]
  },
  {
   "cell_type": "code",
   "execution_count": 34,
   "metadata": {
    "scrolled": true
   },
   "outputs": [
    {
     "data": {
      "text/plain": [
       "(180, 180, 2)"
      ]
     },
     "execution_count": 34,
     "metadata": {},
     "output_type": "execute_result"
    }
   ],
   "source": [
    "new_counts.shape"
   ]
  },
  {
   "cell_type": "code",
   "execution_count": 1,
   "metadata": {},
   "outputs": [
    {
     "data": {
      "image/png": "[encoded data removed]"
     },
     "metadata": {
      "image/png": {
       "height": 437,
       "width": 653
      }
     },
     "output_type": "display_data"
    }
   ],
   "source": [
    "pulsestreamer._seq.plot()"
   ]
  },
  {
   "cell_type": "code",
   "execution_count": 33,
   "metadata": {},
   "outputs": [
    {
     "data": {
      "text/plain": [
       "(200, 200, 80)"
      ]
     },
     "execution_count": 33,
     "metadata": {},
     "output_type": "execute_result"
    }
   ],
   "source": [
    "widefieldmeasurementlogic.odmr_raw_data.shape"
   ]
  },
  {
   "cell_type": "code",
   "execution_count": 34,
   "metadata": {},
   "outputs": [],
   "source": [
    "from matplotlib import pyplot as plt"
   ]
  },
  {
   "cell_type": "code",
   "execution_count": 35,
   "metadata": {},
   "outputs": [],
   "source": [
    "data = np.zeros((200,200,40))\n",
    "bg = np.zeros((200,200,40))"
   ]
  },
  {
   "cell_type": "code",
   "execution_count": 39,
   "metadata": {},
   "outputs": [
    {
     "name": "stderr",
     "output_type": "stream",
     "text": [
      "Traceback (most recent call last):\n",
      "  File \"C:\\Users\\cduPC\\Documents\\GitHub\\qudi\\logic\\jupyterkernel\\qzmqkernel.py\", line 679, in run_code\n",
      "    exec(code_obj, self.user_global_ns, self.user_ns)\n",
      "  File \"<ipython-input-39-7482316086e8>\", line 2, in <module>\n",
      "    xxxx[:,:,i] = widefieldmeasurementlogic.odmr_raw_data[:,:,2*i]\n",
      "NameError: name 'xxxx' is not defined\n"
     ]
    }
   ],
   "source": [
    "for i in range(40):\n",
    "    xxxx[:,:,i] = widefieldmeasurementlogic.odmr_raw_data[:,:,2*i]\n",
    "    yyy[:,:,i] = widefieldmeasurementlogic.odmr_raw_data[:,:,2*i+1]"
   ]
  },
  {
   "cell_type": "code",
   "execution_count": 38,
   "metadata": {},
   "outputs": [
    {
     "data": {
      "image/png": "[encoded data removed]"
     },
     "metadata": {
      "image/png": {
       "height": 361,
       "width": 560
      }
     },
     "output_type": "display_data"
    }
   ],
   "source": [
    "# plt.plot(data[100,100,:])\n",
    "# plt.plot(bg[100,100,:])\n",
    "plt.plot(data[100,100,:]-bg[100,100,:])\n",
    "\n",
    "plt.show()"
   ]
  },
  {
   "cell_type": "code",
   "execution_count": null,
   "metadata": {},
   "outputs": [],
   "source": []
  }
 ],
 "metadata": {
  "kernelspec": {
   "display_name": "Qudi",
   "language": "python",
   "name": "sj5-qudi"
  },
  "language_info": {
   "codemirror_mode": {
    "name": "ipython",
    "version": "3.6.5"
   },
   "file_extension": ".py",
   "mimetype": "text/x-python",
   "name": "python",
   "nbconvert_exporter": "python",
   "pygments_lexer": "ipython3",
   "version": "3.6.5"
  }
 },
 "nbformat": 4,
 "nbformat_minor": 2
}
