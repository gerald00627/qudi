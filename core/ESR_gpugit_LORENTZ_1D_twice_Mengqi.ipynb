{
 "cells": [
  {
   "cell_type": "code",
   "execution_count": 1,
   "metadata": {},
   "outputs": [
    {
     "name": "stdout",
     "output_type": "stream",
     "text": [
      "CUDA available: True\n",
      "CUDA versions runtime: (11, 4), driver: (12, 1)\n"
     ]
    }
   ],
   "source": [
    "import matplotlib.pyplot as plt\n",
    "import pygpufit.gpufit as gf\n",
    "import mat73\n",
    "from os.path import dirname, join as pjoin\n",
    "from scipy import signal\n",
    "import numpy as np\n",
    "# cuda available checks\n",
    "print('CUDA available: {}'.format(gf.cuda_available()))\n",
    "print('CUDA versions runtime: {}, driver: {}'.format(*gf.get_cuda_version()))"
   ]
  },
  {
   "cell_type": "code",
   "execution_count": 2,
   "metadata": {},
   "outputs": [
    {
     "name": "stdout",
     "output_type": "stream",
     "text": [
      "['C:\\\\Users\\\\cduPC\\\\anaconda3\\\\envs\\\\qudi\\\\lib\\\\site-packages\\\\git\\\\ext\\\\gitdb', 'C:\\\\Users\\\\cduPC\\\\Documents\\\\GitHub\\\\qudi\\\\config', '', 'C:\\\\Program Files\\\\Swabian Instruments\\\\Time Tagger\\\\driver\\\\python', 'C:\\\\Users\\\\cduPC\\\\anaconda3\\\\envs\\\\qudi\\\\python36.zip', 'C:\\\\Program Files\\\\Swabian Instruments\\\\Time Tagger\\\\driver\\\\x64\\\\python3.6', 'C:\\\\Users\\\\cduPC\\\\anaconda3\\\\envs\\\\qudi\\\\DLLs', 'C:\\\\Users\\\\cduPC\\\\anaconda3\\\\envs\\\\qudi\\\\lib', 'C:\\\\Users\\\\cduPC\\\\anaconda3\\\\envs\\\\qudi', 'C:\\\\Users\\\\cduPC\\\\anaconda3\\\\envs\\\\qudi\\\\lib\\\\site-packages', 'C:\\\\Users\\\\cduPC\\\\anaconda3\\\\envs\\\\qudi\\\\lib\\\\site-packages\\\\gitdb\\\\ext\\\\smmap', 'C:\\\\Users\\\\cduPC\\\\anaconda3\\\\envs\\\\qudi\\\\lib\\\\site-packages\\\\IPython\\\\extensions', '.', 'C:\\\\Users\\\\cduPC\\\\Documents\\\\GitHub\\\\qudi\\\\logic\\\\pulsed\\\\sampling_function_defs', 'C:\\\\Users\\\\cduPC\\\\Documents\\\\GitHub\\\\qudi\\\\logic\\\\pulsed\\\\predefined_generate_methods', 'C:\\\\Users\\\\cduPC\\\\Documents\\\\GitHub\\\\qudi\\\\logic\\\\fitmethods', 'C:\\\\Users\\\\cduPC\\\\Documents\\\\GitHub\\\\qudi\\\\logic\\\\pulsed\\\\pulse_extraction_methods', 'C:\\\\Users\\\\cduPC\\\\Documents\\\\GitHub\\\\qudi\\\\logic\\\\pulsed\\\\pulsed_analysis_methods']\n"
     ]
    }
   ],
   "source": [
    "import sys\n",
    "print(sys.path)"
   ]
  },
  {
   "cell_type": "code",
   "execution_count": 2,
   "metadata": {},
   "outputs": [],
   "source": [
    "def initialize_parameters(data,center1=None,width1=None,Amp1=None,offset1=1):\n",
    "    Amp1_array = np.min(data,axis=1)-np.max(data,axis=1)\n",
    "          \n",
    "    assert center1 is not None\n",
    "    assert width1 is not None\n",
    "    \n",
    "    center1_array = center1 * np.ones(data.shape[0])\n",
    "    width1_array = width1 * np.ones(data.shape[0])\n",
    "    offset1_array = offset1 * np.ones(data.shape[0])\n",
    "    \n",
    "    return np.array(np.stack((Amp1_array,center1_array,width1_array,offset1_array),axis=1), dtype=np.float32)"
   ]
  },
  {
   "cell_type": "code",
   "execution_count": 3,
   "metadata": {},
   "outputs": [],
   "source": [
    "def lorentz_1D(x, p):\n",
    "    amp = p[0]\n",
    "    center = p[1]\n",
    "    width = p[2]\n",
    "    offset= p[3]\n",
    "    y = (amp * (width**2))/((x-center)**2 + (width)**2) + offset\n",
    "    return y "
   ]
  },
  {
   "cell_type": "code",
   "execution_count": 4,
   "metadata": {},
   "outputs": [],
   "source": [
    "def gauss_1D(x, p):\n",
    "    amp = p[0]\n",
    "    center = p[1]\n",
    "    width = p[2]\n",
    "    offset= p[3]\n",
    "    y = amp * (np.e ** (-(x-center)**2/(2*width**2))) + offset\n",
    "    return y \n",
    "\n",
    "def linear(x, p):\n",
    "    return p[0] + p[1]*x"
   ]
  },
  {
   "cell_type": "code",
   "execution_count": 3,
   "metadata": {},
   "outputs": [],
   "source": [
    "data_dir = r\"Z:\\Montana_setup\\samples and data\\CrI3_NV\\Flake#3_CrI3_twisted_3L+3L_Quinn\\Pulsed_ESR\\5K\\40G_temp_test_v2\\RawData\"\n",
    "mat_fname = pjoin(data_dir, \"005_ESR.mat\")\n",
    "mat_data = mat73.loadmat(mat_fname)"
   ]
  },
  {
   "cell_type": "code",
   "execution_count": 4,
   "metadata": {},
   "outputs": [
    {
     "data": {
      "text/plain": [
       "(220, 220, 162)"
      ]
     },
     "execution_count": 4,
     "metadata": {},
     "output_type": "execute_result"
    }
   ],
   "source": [
    "mat_data['outputdata'].get('ave').get('mean').shape"
   ]
  },
  {
   "cell_type": "code",
   "execution_count": 10,
   "metadata": {},
   "outputs": [
    {
     "data": {
      "text/plain": [
       "(140, 140, 111)"
      ]
     },
     "execution_count": 10,
     "metadata": {},
     "output_type": "execute_result"
    }
   ],
   "source": [
    "widefieldmeasurementlogic.odmr_raw_data.shape"
   ]
  },
  {
   "cell_type": "code",
   "execution_count": 8,
   "metadata": {},
   "outputs": [
    {
     "data": {
      "text/plain": [
       "<class 'numpy.ndarray'>"
      ]
     },
     "execution_count": 8,
     "metadata": {},
     "output_type": "execute_result"
    }
   ],
   "source": [
    "type(mat_data['outputdata'].get('ave').get('mean'))"
   ]
  },
  {
   "cell_type": "code",
   "execution_count": 11,
   "metadata": {},
   "outputs": [],
   "source": [
    "raw_data = np.array(mat_data['outputdata']['ave']['mean'])\n",
    "frequency = np.array(mat_data['outputdata']['freq'], dtype=np.float32)\n",
    "\n",
    "# Reshape data\n",
    "data_normalized = raw_data/raw_data[:, :, 1, np.newaxis]\n",
    "\n",
    "n_fits = raw_data.shape[0]*raw_data.shape[1]\n",
    "number_points = raw_data.shape[2]\n",
    "data = np.array(np.reshape(data_normalized, (n_fits, number_points)), dtype=np.float32)"
   ]
  },
  {
   "cell_type": "code",
   "execution_count": 13,
   "metadata": {},
   "outputs": [
    {
     "data": {
      "text/plain": [
       "(220, 220, 162)"
      ]
     },
     "execution_count": 13,
     "metadata": {},
     "output_type": "execute_result"
    }
   ],
   "source": [
    "raw_data.shape"
   ]
  },
  {
   "cell_type": "code",
   "execution_count": 14,
   "metadata": {},
   "outputs": [
    {
     "data": {
      "text/plain": [
       "<class 'numpy.ndarray'>"
      ]
     },
     "execution_count": 14,
     "metadata": {},
     "output_type": "execute_result"
    }
   ],
   "source": [
    "type(raw_data)"
   ]
  },
  {
   "cell_type": "code",
   "execution_count": 22,
   "metadata": {},
   "outputs": [
    {
     "data": {
      "text/plain": [
       "array([2.76 , 2.762, 2.764, 2.766, 2.768, 2.77 , 2.772, 2.774, 2.776,\n",
       "       2.778, 2.78 , 2.782, 2.784, 2.786, 2.788, 2.79 , 2.792, 2.794,\n",
       "       2.796, 2.798, 2.8  , 2.802, 2.804, 2.806, 2.808, 2.81 , 2.812,\n",
       "       2.814, 2.816, 2.818, 2.82 , 2.822, 2.824, 2.826, 2.828, 2.83 ,\n",
       "       2.832, 2.834, 2.836, 2.838, 2.84 , 2.842, 2.844, 2.846, 2.848,\n",
       "       2.85 , 2.852, 2.854, 2.856, 2.858, 2.86 , 2.862, 2.864, 2.866,\n",
       "       2.868, 2.87 , 2.872, 2.874, 2.876, 2.878, 2.88 , 2.882, 2.884,\n",
       "       2.886, 2.888, 2.89 , 2.892, 2.894, 2.896, 2.898, 2.9  , 2.902,\n",
       "       2.904, 2.906, 2.908, 2.91 , 2.912, 2.914, 2.916, 2.918, 2.92 ,\n",
       "       2.922, 2.924, 2.926, 2.928, 2.93 , 2.932, 2.934, 2.936, 2.938,\n",
       "       2.94 , 2.942, 2.944, 2.946, 2.948, 2.95 , 2.952, 2.954, 2.956,\n",
       "       2.958, 2.96 , 2.962, 2.964, 2.966, 2.968, 2.97 , 2.972, 2.974,\n",
       "       2.976, 2.978, 2.98 ])"
      ]
     },
     "execution_count": 22,
     "metadata": {},
     "output_type": "execute_result"
    }
   ],
   "source": [
    "freqtest = widefieldmeasurementlogic.odmr_plot_x\n",
    "freqtest*1e-9"
   ]
  },
  {
   "cell_type": "code",
   "execution_count": 21,
   "metadata": {},
   "outputs": [
    {
     "data": {
      "text/plain": [
       "array([2.7   , 2.7015, 2.703 , 2.7045, 2.706 , 2.7075, 2.709 , 2.7105,\n",
       "       2.712 , 2.7135, 2.715 , 2.7165, 2.718 , 2.7195, 2.721 , 2.7225,\n",
       "       2.724 , 2.7255, 2.727 , 2.7285, 2.73  , 2.7315, 2.733 , 2.7345,\n",
       "       2.736 , 2.7375, 2.739 , 2.7405, 2.742 , 2.7435, 2.745 , 2.7465,\n",
       "       2.748 , 2.7495, 2.751 , 2.7525, 2.754 , 2.7555, 2.757 , 2.7585,\n",
       "       2.76  , 2.7615, 2.763 , 2.7645, 2.766 , 2.7675, 2.769 , 2.7705,\n",
       "       2.772 , 2.7735, 2.775 , 2.7765, 2.778 , 2.7795, 2.781 , 2.7825,\n",
       "       2.784 , 2.7855, 2.787 , 2.7885, 2.79  , 2.7915, 2.793 , 2.7945,\n",
       "       2.796 , 2.7975, 2.799 , 2.8005, 2.802 , 2.8035, 2.805 , 2.8065,\n",
       "       2.808 , 2.8095, 2.811 , 2.8125, 2.814 , 2.8155, 2.817 , 2.8185,\n",
       "       2.82  , 2.92  , 2.9215, 2.923 , 2.9245, 2.926 , 2.9275, 2.929 ,\n",
       "       2.9305, 2.932 , 2.9335, 2.935 , 2.9365, 2.938 , 2.9395, 2.941 ,\n",
       "       2.9425, 2.944 , 2.9455, 2.947 , 2.9485, 2.95  , 2.9515, 2.953 ,\n",
       "       2.9545, 2.956 , 2.9575, 2.959 , 2.9605, 2.962 , 2.9635, 2.965 ,\n",
       "       2.9665, 2.968 , 2.9695, 2.971 , 2.9725, 2.974 , 2.9755, 2.977 ,\n",
       "       2.9785, 2.98  , 2.9815, 2.983 , 2.9845, 2.986 , 2.9875, 2.989 ,\n",
       "       2.9905, 2.992 , 2.9935, 2.995 , 2.9965, 2.998 , 2.9995, 3.001 ,\n",
       "       3.0025, 3.004 , 3.0055, 3.007 , 3.0085, 3.01  , 3.0115, 3.013 ,\n",
       "       3.0145, 3.016 , 3.0175, 3.019 , 3.0205, 3.022 , 3.0235, 3.025 ,\n",
       "       3.0265, 3.028 , 3.0295, 3.031 , 3.0325, 3.034 , 3.0355, 3.037 ,\n",
       "       3.0385, 3.04  ], dtype=float32)"
      ]
     },
     "execution_count": 21,
     "metadata": {},
     "output_type": "execute_result"
    }
   ],
   "source": [
    "frequency"
   ]
  },
  {
   "cell_type": "code",
   "execution_count": 18,
   "metadata": {},
   "outputs": [
    {
     "data": {
      "text/plain": [
       "<class 'numpy.ndarray'>"
      ]
     },
     "execution_count": 18,
     "metadata": {},
     "output_type": "execute_result"
    }
   ],
   "source": [
    "type(frequency)"
   ]
  },
  {
   "cell_type": "code",
   "execution_count": null,
   "metadata": {},
   "outputs": [],
   "source": [
    "int(raw_data.shape[-1]/2)"
   ]
  },
  {
   "cell_type": "code",
   "execution_count": 7,
   "metadata": {},
   "outputs": [],
   "source": [
    "# taking only one lorentzian and every other data point \n",
    "raw_data_test = raw_data[:, :, :int(raw_data.shape[-1]/2)-1:2]\n",
    "frequency_test = frequency[:int(raw_data.shape[-1]/2)-1:2]\n",
    "data_normalized_test = data_normalized[:, :, :int(raw_data.shape[-1]/2)-1:2]\n",
    "\n",
    "n_fits_test = raw_data_test.shape[0]*raw_data_test.shape[1]\n",
    "number_points_test = raw_data_test.shape[2]\n",
    "data_test = np.array(np.reshape(data_normalized_test, (n_fits_test, number_points_test)), dtype=np.float32)"
   ]
  },
  {
   "cell_type": "code",
   "execution_count": 8,
   "metadata": {},
   "outputs": [],
   "source": [
    "raw_data_test_upper = raw_data[:, :, int(raw_data.shape[-1]/2)::2]\n",
    "frequency_test_upper = frequency[int(raw_data.shape[-1]/2)::2]\n",
    "data_normalized_test_upper = data_normalized[:, :, int(raw_data.shape[-1]/2)::2]\n",
    "\n",
    "n_fits_test_upper = raw_data_test_upper.shape[0]*raw_data_test_upper.shape[1]\n",
    "number_points_test_upper = raw_data_test_upper.shape[2]\n",
    "data_test_upper = np.array(np.reshape(data_normalized_test_upper, (n_fits_test_upper, number_points_test_upper)), dtype=np.float32)"
   ]
  },
  {
   "cell_type": "code",
   "execution_count": null,
   "metadata": {},
   "outputs": [],
   "source": [
    "testing_f1"
   ]
  },
  {
   "cell_type": "code",
   "execution_count": 9,
   "metadata": {},
   "outputs": [],
   "source": [
    "testing_f1 = np.arange(0,40)"
   ]
  },
  {
   "cell_type": "code",
   "execution_count": 10,
   "metadata": {},
   "outputs": [],
   "source": [
    "# User Info\n",
    "user_info = testing_f1\n",
    "\n",
    "# tolerance\n",
    "tolerance = 1e-9\n",
    "\n",
    "# maximum number of iterations\n",
    "max_number_iterations = 20\n",
    "\n",
    "# Parameters to Fit\n",
    "#parameters_to_fit = np.ones(7, dtype=np.float32)\n",
    "\n",
    "estimator_id = 0\n",
    "\n",
    "# model ID\n",
    "# model_id = gf.ModelID.LORENTZ_1D\n",
    "model_id = gf.ModelID.GAUSS_1D\n",
    "# Initial parameters\n",
    "number_fits = 0\n",
    "initial_parameters = initialize_parameters(data_test,Amp1=None,center1=22,width1=10,offset1=1)\n",
    "# initial_parameters = np.ones((number_fits, 2), dtype=np.float32)\n",
    "# initial_parameters = np.array([[15,20,5,1]], dtype=np.float32)\n",
    "initial_parameters.shape\n",
    "\n",
    "initial_parameters_upper = initialize_parameters(data_test_upper,Amp1=None,center1=25,width1=10,offset1=1)"
   ]
  },
  {
   "cell_type": "code",
   "execution_count": 11,
   "metadata": {},
   "outputs": [],
   "source": [
    "# run Gpufit   \n",
    "parameters, states, chi_squares, number_iterations, execution_time = gf.fit(data_test, None, model_id, initial_parameters, tolerance, max_number_iterations, None, estimator_id, user_info=None)\n",
    "\n",
    "parameters_upper, states_upper, chi_squares_upper, number_iterations_upper, execution_time_upper = gf.fit(data_test_upper, None, model_id, initial_parameters_upper, tolerance, max_number_iterations, None, estimator_id, user_info=None)"
   ]
  },
  {
   "cell_type": "code",
   "execution_count": null,
   "metadata": {},
   "outputs": [],
   "source": [
    "parameters[3500]"
   ]
  },
  {
   "cell_type": "code",
   "execution_count": null,
   "metadata": {
    "scrolled": false
   },
   "outputs": [],
   "source": [
    "# n=0 to n=48399\n",
    "n=22000\n",
    "\n",
    "plt.plot(frequency_test,data_test[n,:],'.',c='blue')\n",
    "plt.plot(frequency_test,lorentz_1D(testing_f1,parameters[n]),c='orange')\n",
    "plt.show()\n",
    "\n",
    "fcf = parameters[0][1]*0.003+2.7\n",
    "print(f'fitted central frequency: {fcf}')"
   ]
  },
  {
   "cell_type": "code",
   "execution_count": null,
   "metadata": {},
   "outputs": [],
   "source": [
    "# n=0 to n=48399\n",
    "# n=21000\n",
    "\n",
    "plt.plot(frequency_test_upper,data_test_upper[n,:],'.',c='blue')\n",
    "plt.plot(frequency_test_upper,lorentz_1D(testing_f1_upper,parameters_upper[n]),c='orange')\n",
    "plt.show()\n",
    "\n",
    "fcf = parameters_upper[0][1]*0.003+2.92\n",
    "print(f'fitted central frequency: {fcf}')"
   ]
  },
  {
   "cell_type": "code",
   "execution_count": null,
   "metadata": {},
   "outputs": [],
   "source": [
    "execution_time"
   ]
  },
  {
   "cell_type": "code",
   "execution_count": null,
   "metadata": {},
   "outputs": [],
   "source": [
    "execution_time_upper"
   ]
  },
  {
   "cell_type": "code",
   "execution_count": null,
   "metadata": {},
   "outputs": [],
   "source": [
    "ratio = np.sum(states == 1) / parameters.shape[0] * 100\n",
    "print(f'ratio max iterations exceeded  {ratio} %')"
   ]
  },
  {
   "cell_type": "code",
   "execution_count": null,
   "metadata": {},
   "outputs": [],
   "source": [
    "final_data = parameters.reshape(raw_data_test.shape[0],raw_data_test.shape[1],4)\n",
    "final_data_upper = parameters_upper.reshape(raw_data_test_upper.shape[0],raw_data_test_upper.shape[1],4)\n",
    "X,Y = np.meshgrid(np.linspace(1,10,final_data.shape[0]),np.linspace(1,10,final_data.shape[1]))\n",
    "fig, ax = plt.subplots()\n",
    "pc = ax.pcolormesh(X,Y,((final_data_upper[:,:,1]*0.003+2.92)-(final_data[:,:,1]*0.003+2.7))/(2.8*2*10**(-3)),cmap='jet',vmin=39.7,vmax=41.7)\n",
    "fig.colorbar(pc)\n",
    "hello = ((final_data_upper[:,:,1]*0.003+2.92)-(final_data[:,:,1]*0.003+2.7))/(2.8*2*10**(-3))\n",
    "print(hello)\n",
    "# divider = make_axes_locatable(ax)\n",
    "# cax = divider.append_axes(\"right\",size=\"5%\", pad = 0.05)\n",
    "# fig.colorbar(fig, cax=cax)"
   ]
  },
  {
   "cell_type": "code",
   "execution_count": 13,
   "metadata": {},
   "outputs": [
    {
     "data": {
      "image/png": "[encoded data removed]"
     },
     "metadata": {
      "image/png": {
       "height": 361,
       "width": 427
      }
     },
     "output_type": "display_data"
    }
   ],
   "source": [
    "final_data = parameters.reshape(raw_data_test.shape[0],raw_data_test.shape[1],4)\n",
    "final_data_upper = parameters_upper.reshape(raw_data_test_upper.shape[0],raw_data_test_upper.shape[1],4)\n",
    "# X,Y = np.meshgrid(np.linspace(1,10,final_data.shape[0]),np.linspace(1,10,final_data.shape[1]))\n",
    "# fig, ax = plt.subplots()\n",
    "shw = plt.imshow((final_data_upper[:,:,1]-final_data[:,:,1]+40)*0.003/(2*2.8*10**(-3)),cmap='seismic',interpolation='none',vmin=18,vmax=23)\n",
    "colorbar = plt.colorbar(shw)\n",
    "plt.show()"
   ]
  },
  {
   "cell_type": "code",
   "execution_count": null,
   "metadata": {},
   "outputs": [],
   "source": [
    "final_data = parameters.reshape(raw_data_test.shape[0],raw_data_test.shape[1],4)\n",
    "final_data[4,1,:]"
   ]
  },
  {
   "cell_type": "code",
   "execution_count": null,
   "metadata": {
    "scrolled": true
   },
   "outputs": [],
   "source": [
    "final_data = parameters.reshape(raw_data_test.shape[0],raw_data_test.shape[1],4)\n",
    "final_data_upper = parameters.reshape(raw_data_test_upper.shape[0],raw_data_test_upper.shape[1],4)\n",
    "# X,Y = np.meshgrid(np.linspace(1,10,final_data.shape[0]),np.linspace(1,10,final_data.shape[1]))\n",
    "# fig, ax = plt.subplots()\n",
    "shw = plt.imshow((final_data_upper[:,:,1]-final_data[:,:,1]+40)*0.003/(2*2.8*10**(-3)),cmap='seismic',interpolation='none',vmin=18,vmax=23)\n",
    "colorbar = plt.colorbar(shw)\n",
    "plt.show()"
   ]
  },
  {
   "cell_type": "code",
   "execution_count": null,
   "metadata": {},
   "outputs": [],
   "source": [
    "shw = plt.imshow((final_data_upper[:,:,1]-final_data[:,:,1]+40)*0.003/(2*2.8*10**(-3)),cmap='seismic',interpolation='none',vmin=21,vmax=25)\n",
    "colorbar = plt.colorbar(shw)\n",
    "plt.show()"
   ]
  },
  {
   "cell_type": "code",
   "execution_count": null,
   "metadata": {},
   "outputs": [],
   "source": [
    "final_data_u pper[5,5]"
   ]
  },
  {
   "cell_type": "code",
   "execution_count": null,
   "metadata": {},
   "outputs": [],
   "source": [
    "final_data[:,:,1].shape"
   ]
  },
  {
   "cell_type": "code",
   "execution_count": null,
   "metadata": {},
   "outputs": [],
   "source": [
    "final_data[:,:,1]"
   ]
  },
  {
   "cell_type": "code",
   "execution_count": null,
   "metadata": {},
   "outputs": [],
   "source": [
    "(final_data_upper[:,:,1]-final_data[:,:,1]+40)*0.003/(2*2.8*10**(-3))"
   ]
  },
  {
   "cell_type": "code",
   "execution_count": null,
   "metadata": {},
   "outputs": [],
   "source": [
    "final_data_upper[:,:,1]-final_data[:,:,1]+40"
   ]
  },
  {
   "cell_type": "code",
   "execution_count": null,
   "metadata": {},
   "outputs": [],
   "source": [
    "ratio = np.sum(states == 1) / parameters.shape[0] * 100\n",
    "print(f'ratio max iterations exceeded  {ratio} %')\n",
    "ratio_upper = np.sum(states == 1) / parameters_upper.shape[0] * 100\n",
    "print(f'ratio_upper max iterations exceeded  {ratio_upper} %')"
   ]
  },
  {
   "cell_type": "code",
   "execution_count": null,
   "metadata": {},
   "outputs": [],
   "source": []
  },
  {
   "cell_type": "code",
   "execution_count": null,
   "metadata": {},
   "outputs": [],
   "source": []
  }
 ],
 "metadata": {
  "kernelspec": {
   "display_name": "Qudi",
   "language": "python",
   "name": "sj5-qudi"
  },
  "language_info": {
   "codemirror_mode": {
    "name": "ipython",
    "version": "3.6.5"
   },
   "file_extension": ".py",
   "mimetype": "text/x-python",
   "name": "python",
   "nbconvert_exporter": "python",
   "pygments_lexer": "ipython3",
   "version": "3.6.5"
  }
 },
 "nbformat": 4,
 "nbformat_minor": 5
}
