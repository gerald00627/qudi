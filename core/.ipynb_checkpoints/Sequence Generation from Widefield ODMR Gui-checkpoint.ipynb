{
 "cells": [
  {
   "cell_type": "code",
   "execution_count": 1,
   "metadata": {},
   "outputs": [],
   "source": [
    "cameraBasler.camera.Close()"
   ]
  },
  {
   "cell_type": "code",
   "execution_count": 2,
   "metadata": {},
   "outputs": [],
   "source": [
    "cameraBasler.camera.Open()\n",
    "cameraBasler.camera.TriggerMode = \"On\""
   ]
  },
  {
   "cell_type": "code",
   "execution_count": 3,
   "metadata": {},
   "outputs": [
    {
     "name": "stdout",
     "output_type": "stream",
     "text": [
      "71\n",
      "72\n",
      "73\n"
     ]
    }
   ],
   "source": [
    "import numpy as np \n",
    "from pypylon import pylon\n",
    "import matplotlib.pyplot as plt\n",
    "import time\n",
    "import pulsestreamer as ps"
   ]
  },
  {
   "cell_type": "code",
   "execution_count": 6,
   "metadata": {},
   "outputs": [
    {
     "data": {
      "text/plain": [
       "0"
      ]
     },
     "execution_count": 6,
     "metadata": {},
     "output_type": "execute_result"
    }
   ],
   "source": [
    "cameraBasler.camera.IsGrabbing()\n",
    "cameraBasler.camera.StopGrabbing()\n",
    "pulsestreamer.pulser_off()\n",
    "mw_source_smb100B.off()\n",
    "mw_source_srssg.off()"
   ]
  },
  {
   "cell_type": "code",
   "execution_count": 5,
   "metadata": {},
   "outputs": [
    {
     "data": {
      "text/plain": [
       "0"
      ]
     },
     "execution_count": 5,
     "metadata": {},
     "output_type": "execute_result"
    }
   ],
   "source": [
    "# Setting up MW, smb is lower freq\n",
    "mw_source_smb100B.set_frequency(2.8256*1e9)\n",
    "mw_source_smb100B.set_power(-15)\n",
    "mw_source_smb100B.cw_on()"
   ]
  },
  {
   "cell_type": "code",
   "execution_count": 7,
   "metadata": {},
   "outputs": [
    {
     "data": {
      "image/png": "[encoded data removed]"
     },
     "metadata": {
      "image/png": {
       "height": 437,
       "width": 653
      }
     },
     "output_type": "display_data"
    }
   ],
   "source": [
    "pulsestreamer._seq.plot()"
   ]
  },
  {
   "cell_type": "code",
   "execution_count": null,
   "metadata": {},
   "outputs": [
    {
     "name": "stdout",
     "output_type": "stream",
     "text": [
      "0\n",
      "1\n",
      "2\n",
      "3\n",
      "4\n",
      "5\n",
      "6\n",
      "7\n",
      "8\n",
      "9\n",
      "10\n",
      "11\n",
      "12\n",
      "13\n",
      "14\n",
      "15\n",
      "16\n",
      "17\n",
      "18\n",
      "19\n",
      "20\n",
      "21\n",
      "22\n",
      "23\n",
      "24\n",
      "25\n",
      "26\n",
      "27\n",
      "28\n",
      "29\n"
     ]
    }
   ],
   "source": [
    "# measuring together\n",
    "# background first\n",
    "\n",
    "num_avg = 2500 # 100 sweeps is 290s ~ 5mins since both are occuring\n",
    "\n",
    "tic = time.perf_counter()\n",
    "\n",
    "if cameraBasler.camera.IsGrabbing():\n",
    "    cameraBasler.camera.StopGrabbing()\n",
    "\n",
    "cameraBasler.camera.Close()\n",
    "cameraBasler.camera.Open()\n",
    "cameraBasler.camera.TriggerMode = \"On\"\n",
    "\n",
    "cameraBasler.camera.ExposureTime = 10000 # us, def 60000 us = 60ms\n",
    "\n",
    "width = cameraBasler.get_constraints()[0]\n",
    "height = cameraBasler.get_constraints()[1]\n",
    "\n",
    "_num_img = pulsedmeasurement._pm.method_param_widgets.get('rabiWF')['num_of_points'].value() # number of points width = cameraBasler.get_constraints()[0]\n",
    "height = cameraBasler.get_constraints()[1]\n",
    "\n",
    "imgs = np.zeros((height,width,_num_img),dtype='float64')\n",
    "\n",
    "cameraBasler.camera.StartGrabbingMax(_num_img)\n",
    "ind = 0\n",
    "\n",
    "time.sleep(0.5)\n",
    "\n",
    "pulsestreamer.pulser_on(False,1,False,final=ps.OutputState([pulsestreamer._laser_channel], 0, 0))\n",
    "\n",
    "while cameraBasler.camera.IsGrabbing():\n",
    "    \n",
    "    output = cameraBasler.camera.RetrieveResult(11, pylon.TimeoutHandling_ThrowException) # ms,exposure time < retrieval timeout\n",
    "    if output.GrabSucceeded():\n",
    "        imgs[:,:,ind] += output.Array\n",
    "        ind += 1\n",
    "#         print(ind)\n",
    "        time.sleep(0.01)\n",
    "            \n",
    "            \n",
    "pulsestreamer.pulser_off()\n",
    "\n",
    "\n",
    "i=0\n",
    "\n",
    "# tic = time.perf_counter()\n",
    "\n",
    "while i < num_avg:\n",
    "\n",
    "    cameraBasler.camera.StartGrabbingMax(_num_img)\n",
    "    ind = 0\n",
    "\n",
    "    pulsestreamer.pulser_on(False,1,False,None)\n",
    "\n",
    "    while cameraBasler.camera.IsGrabbing():\n",
    "\n",
    "        try:\n",
    "            output = cameraBasler.camera.RetrieveResult(11, pylon.TimeoutHandling_ThrowException) # ms,exposure time < retrieval timeout\n",
    "            if output.GrabSucceeded():\n",
    "                imgs[:,:,ind] += output.Array\n",
    "                ind += 1\n",
    "                time.sleep(0.01)\n",
    "                prev_array = output.Array\n",
    "        except:\n",
    "            print('failed')\n",
    "            imgs[:,:,ind] += prev_array\n",
    "            ind += 1\n",
    "            time.sleep(0.01)\n",
    "            cameraBasler.camera.StopGrabbing()\n",
    "    \n",
    "    print(i)\n",
    "    i += 1\n",
    "\n",
    "# toc = time.perf_counter()\n",
    "pulsestreamer.pulser_off()\n",
    "\n",
    "time.sleep(1)\n",
    "\n",
    "# store background data\n",
    "rabi_bg = imgs\n",
    "\n",
    "# # Setting up MW\n",
    "mw_source_smb100B.set_frequency(2.8256*1e9)\n",
    "mw_source_smb100B.set_power(-12)\n",
    "mw_source_smb100B.cw_on()\n",
    "\n",
    "# mw_source_srssg.set_frequency(2825600000)\n",
    "# mw_source_srssg.set_power(-15)\n",
    "# mw_source_srssg.cw_on()\n",
    "\n",
    "#measure signal\n",
    "if cameraBasler.camera.IsGrabbing():\n",
    "    cameraBasler.camera.StopGrabbing()\n",
    "\n",
    "cameraBasler.camera.Close()\n",
    "cameraBasler.camera.Open()\n",
    "cameraBasler.camera.TriggerMode = \"On\"\n",
    "\n",
    "cameraBasler.camera.ExposureTime = 10000 # us, def 60000 us = 60ms\n",
    "\n",
    "# _num_img = pulsedmeasurement._pm.method_param_widgets.get('rabiWF')['num_of_points'].value() # number of points width = cameraBasler.get_constraints()[0]\n",
    "\n",
    "imgs = np.zeros((height,width,_num_img),dtype='float64')\n",
    "\n",
    "cameraBasler.camera.StartGrabbingMax(_num_img)\n",
    "ind = 0\n",
    "\n",
    "time.sleep(0.5)\n",
    "\n",
    "pulsestreamer.pulser_on(False,1,False,final=ps.OutputState([pulsestreamer._laser_channel], 0, 0))\n",
    "\n",
    "while cameraBasler.camera.IsGrabbing():\n",
    "    \n",
    "    output = cameraBasler.camera.RetrieveResult(11, pylon.TimeoutHandling_ThrowException) # ms,exposure time < retrieval timeout\n",
    "    if output.GrabSucceeded():\n",
    "        imgs[:,:,ind] += output.Array\n",
    "        ind += 1\n",
    "#         print(ind)\n",
    "        time.sleep(0.01)\n",
    "            \n",
    "pulsestreamer.pulser_off()\n",
    "\n",
    "i=0\n",
    "\n",
    "while i < num_avg:\n",
    "\n",
    "    cameraBasler.camera.StartGrabbingMax(_num_img)\n",
    "    ind = 0\n",
    "\n",
    "    pulsestreamer.pulser_on(False,1,False,None)\n",
    "\n",
    "    while cameraBasler.camera.IsGrabbing():\n",
    "\n",
    "        try:\n",
    "            output = cameraBasler.camera.RetrieveResult(11, pylon.TimeoutHandling_ThrowException) # ms,exposure time < retrieval timeout\n",
    "            if output.GrabSucceeded():\n",
    "                imgs[:,:,ind] += output.Array\n",
    "                ind += 1\n",
    "                time.sleep(0.01)\n",
    "                prev_array = output.Array\n",
    "        except:\n",
    "            print('failed')\n",
    "            imgs[:,:,ind] += prev_array\n",
    "            ind += 1\n",
    "            time.sleep(0.01)\n",
    "            cameraBasler.camera.StopGrabbing()\n",
    "    \n",
    "    print(i)\n",
    "    i += 1\n",
    "\n",
    "toc = time.perf_counter()\n",
    "    \n",
    "pulsestreamer.pulser_off()\n",
    "mw_source_smb100B.off()\n",
    "\n",
    "time.sleep(1) \n",
    "\n",
    "print(f\"Finished data sweeps in {toc - tic:0.4f} seconds\")\n",
    "\n",
    "data_rabi = imgs\n",
    "\n",
    "\n",
    "#subtract background\n",
    "\n",
    "rabi_subtracted = data_rabi #initialize\n",
    "\n",
    "for i in range(data_rabi.shape[0]):\n",
    "    for j in range(data_rabi.shape[1]):\n",
    "        rabi_subtracted[i,j,:] = data_rabi[i,j,:]-rabi_bg[i,j,:]\n",
    "        \n",
    "plt.plot(rabi_subtracted[70,70,:])\n",
    "plt.show()\n"
   ]
  },
  {
   "cell_type": "code",
   "execution_count": null,
   "metadata": {},
   "outputs": [],
   "source": []
  }
 ],
 "metadata": {
  "kernelspec": {
   "display_name": "Qudi",
   "language": "python",
   "name": "sj5-qudi"
  },
  "language_info": {
   "codemirror_mode": {
    "name": "ipython",
    "version": "3.6.5"
   },
   "file_extension": ".py",
   "mimetype": "text/x-python",
   "name": "python",
   "nbconvert_exporter": "python",
   "pygments_lexer": "ipython3",
   "version": "3.6.5"
  }
 },
 "nbformat": 4,
 "nbformat_minor": 2
}
