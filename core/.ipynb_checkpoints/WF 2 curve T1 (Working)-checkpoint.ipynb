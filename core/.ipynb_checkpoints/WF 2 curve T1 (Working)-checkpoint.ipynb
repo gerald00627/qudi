{
 "cells": [
  {
   "cell_type": "code",
   "execution_count": 36,
   "metadata": {},
   "outputs": [],
   "source": [
    "cameraBasler.camera.Close()"
   ]
  },
  {
   "cell_type": "code",
   "execution_count": 37,
   "metadata": {},
   "outputs": [],
   "source": [
    "cameraBasler.camera.Open()\n",
    "cameraBasler.camera.TriggerMode = \"On\""
   ]
  },
  {
   "cell_type": "code",
   "execution_count": 38,
   "metadata": {},
   "outputs": [],
   "source": [
    "import numpy as np \n",
    "from pypylon import pylon\n",
    "import matplotlib.pyplot as plt\n",
    "import time\n",
    "import pulsestreamer as ps\n",
    "import math"
   ]
  },
  {
   "cell_type": "code",
   "execution_count": 39,
   "metadata": {},
   "outputs": [
    {
     "data": {
      "text/plain": [
       "0"
      ]
     },
     "execution_count": 39,
     "metadata": {},
     "output_type": "execute_result"
    }
   ],
   "source": [
    "cameraBasler.camera.IsGrabbing()\n",
    "cameraBasler.camera.StopGrabbing()\n",
    "pulsestreamer.pulser_off()\n",
    "mw_source_smb100B.off()\n",
    "mw_source_srssg.off()"
   ]
  },
  {
   "cell_type": "code",
   "execution_count": 17,
   "metadata": {},
   "outputs": [
    {
     "data": {
      "text/plain": [
       "False"
      ]
     },
     "execution_count": 17,
     "metadata": {},
     "output_type": "execute_result"
    }
   ],
   "source": [
    "cameraBasler.camera.IsGrabbing()"
   ]
  },
  {
   "cell_type": "code",
   "execution_count": 40,
   "metadata": {},
   "outputs": [
    {
     "data": {
      "text/plain": [
       "0"
      ]
     },
     "execution_count": 40,
     "metadata": {},
     "output_type": "execute_result"
    }
   ],
   "source": [
    "# Setting up MW #smb100b for lower frequency\n",
    "mw_source_smb100B.set_frequency(2825600000)\n",
    "mw_source_smb100B.set_power(-15)\n",
    "mw_source_smb100B.cw_on()\n",
    "\n",
    "# mw_source_srssg.set_frequency(2919200000)\n",
    "# mw_source_srssg.set_power(-12)\n",
    "# mw_source_srssg.cw_on()"
   ]
  },
  {
   "cell_type": "code",
   "execution_count": 15,
   "metadata": {},
   "outputs": [
    {
     "data": {
      "text/plain": [
       "0"
      ]
     },
     "execution_count": 15,
     "metadata": {},
     "output_type": "execute_result"
    }
   ],
   "source": [
    "pulsestreamer.pulser_on(False,1,False,final=ps.OutputState([pulsestreamer._laser_channel], 0, 0))"
   ]
  },
  {
   "cell_type": "code",
   "execution_count": 20,
   "metadata": {},
   "outputs": [
    {
     "data": {
      "text/plain": [
       "1e-06"
      ]
     },
     "execution_count": 20,
     "metadata": {},
     "output_type": "execute_result"
    }
   ],
   "source": [
    "sequencegeneratorlogic.generation_parameters.get('laser_delay')"
   ]
  },
  {
   "cell_type": "code",
   "execution_count": 18,
   "metadata": {},
   "outputs": [
    {
     "data": {
      "text/plain": [
       "49"
      ]
     },
     "execution_count": 18,
     "metadata": {},
     "output_type": "execute_result"
    }
   ],
   "source": [
    "math.ceil(exp_time_max*1000)\n",
    "\n",
    "# round(exp_time_max*1000,4)# convert to ms"
   ]
  },
  {
   "cell_type": "code",
   "execution_count": 13,
   "metadata": {},
   "outputs": [
    {
     "data": {
      "text/plain": [
       "21"
      ]
     },
     "execution_count": 13,
     "metadata": {},
     "output_type": "execute_result"
    }
   ],
   "source": [
    "_num_img"
   ]
  },
  {
   "cell_type": "code",
   "execution_count": 41,
   "metadata": {
    "scrolled": true
   },
   "outputs": [
    {
     "name": "stdout",
     "output_type": "stream",
     "text": [
      "1\n",
      "2\n",
      "3\n",
      "4\n",
      "5\n",
      "6\n",
      "7\n",
      "8\n",
      "9\n",
      "10\n",
      "11\n",
      "12\n",
      "13\n",
      "14\n",
      "14\n"
     ]
    },
    {
     "data": {
      "image/png": "[encoded data removed]"
     },
     "metadata": {
      "image/png": {
       "height": 361,
       "width": 552
      }
     },
     "output_type": "display_data"
    }
   ],
   "source": [
    "if cameraBasler.camera.IsGrabbing():\n",
    "    cameraBasler.camera.StopGrabbing()\n",
    "\n",
    "cameraBasler.camera.Close()\n",
    "cameraBasler.camera.Open()\n",
    "cameraBasler.camera.TriggerMode = \"On\"\n",
    "\n",
    "cameraBasler.camera.ExposureMode = \"TriggerWidth\" #change exposure mode to trigger width\n",
    "\n",
    "# cameraBasler.camera.ExposureTime = 10000 # us, def 60000 us = 60ms\n",
    "\n",
    "_num_points = pulsedmeasurement._pm.method_param_widgets.get('t1_WF_2exponential')['num_of_points'].value() # number of points width = cameraBasler.get_constraints()[0]\n",
    "_num_img = 2*_num_points # x3 for 3 curves \n",
    "\n",
    "\n",
    "#retrieve sequence parameters\n",
    "tau_end = pulsedmeasurement._pm.method_param_widgets.get('t1_WF_2exponential')['tau_end'].value() \n",
    "rabi_period1 = sequencegeneratorlogic.generation_parameters.get('rabi_period1') # in s\n",
    "rabi_period2 = sequencegeneratorlogic.generation_parameters.get('rabi_period2') # in s\n",
    "laser_length = sequencegeneratorlogic.generation_parameters.get('laser_length') # in s\n",
    "laser_delay = sequencegeneratorlogic.generation_parameters.get('laser_delay') # in s\n",
    "wait_time = sequencegeneratorlogic.generation_parameters.get('wait_time') # in s\n",
    "\n",
    "####### need to calculate max exposure time to adjust retrieval time to max.\n",
    "\n",
    "# pulse_reps = 2000\n",
    "# exp_time_max =  pulse_reps*(tau_end + rabi_period1/2 + laser_length + laser_delay + wait_time)\n",
    "\n",
    "width = cameraBasler.get_constraints()[0]\n",
    "height = cameraBasler.get_constraints()[1]\n",
    "\n",
    "imgs = np.zeros((height,width,_num_img),dtype='float64')\n",
    "\n",
    "cameraBasler.camera.StartGrabbingMax(_num_img)\n",
    "ind = 0\n",
    "\n",
    "time.sleep(0.5)\n",
    "\n",
    "pulsestreamer.pulser_on(False,1,False,final=ps.OutputState([pulsestreamer._laser_channel], 0, 0))\n",
    "\n",
    "while cameraBasler.camera.IsGrabbing():\n",
    "    \n",
    "#     output = cameraBasler.camera.RetrieveResult(math.ceil(exp_time_max*1000), pylon.TimeoutHandling_ThrowException) # ms,exposure time < retrieval timeout\n",
    "    output = cameraBasler.camera.RetrieveResult(5000, pylon.TimeoutHandling_ThrowException) # ms,exposure time < retrieval timeout\n",
    "   \n",
    "    if output.GrabSucceeded():\n",
    "        imgs[:,:,ind] += output.Array\n",
    "        ind += 1\n",
    "        print(ind)\n",
    "        time.sleep(0.01)\n",
    "            \n",
    "# for i in range(_num_img):\n",
    "#     print(imgs[75,75,i])\n",
    "print(ind)\n",
    "pulsestreamer.pulser_off()\n",
    "# mw_source_smb100B.off()\n",
    "# mw_source_srssg.off()\n",
    "\n",
    "plt.plot(imgs[75,75,:])\n",
    "plt.show()\n"
   ]
  },
  {
   "cell_type": "code",
   "execution_count": null,
   "metadata": {
    "scrolled": true
   },
   "outputs": [
    {
     "name": "stdout",
     "output_type": "stream",
     "text": [
      "0\n",
      "1\n",
      "2\n",
      "3\n",
      "failed\n",
      "4\n",
      "failed\n",
      "5\n",
      "6\n",
      "7\n",
      "8\n",
      "9\n",
      "failed\n",
      "10\n",
      "11\n",
      "12\n",
      "13\n",
      "14\n",
      "15\n",
      "16\n",
      "17\n",
      "18\n",
      "19\n",
      "20\n",
      "21\n",
      "22\n",
      "23\n",
      "24\n",
      "25\n",
      "26\n",
      "27\n",
      "28\n",
      "29\n",
      "failed\n",
      "30\n",
      "31\n",
      "failed\n",
      "32\n",
      "failed\n",
      "33\n",
      "34\n",
      "35\n",
      "36\n",
      "37\n",
      "38\n",
      "39\n",
      "failed\n",
      "40\n",
      "failed\n",
      "41\n",
      "failed\n",
      "42\n",
      "43\n",
      "44\n",
      "failed\n",
      "45\n",
      "46\n",
      "47\n",
      "48\n",
      "failed\n",
      "49\n",
      "failed\n",
      "50\n",
      "failed\n",
      "51\n",
      "52\n",
      "53\n",
      "54\n",
      "55\n",
      "failed\n",
      "56\n",
      "57\n",
      "58\n",
      "failed\n",
      "59\n",
      "failed\n",
      "60\n",
      "61\n",
      "failed\n",
      "62\n",
      "63\n",
      "failed\n",
      "64\n",
      "65\n",
      "66\n",
      "67\n",
      "68\n",
      "69\n",
      "failed\n",
      "70\n",
      "71\n",
      "72\n",
      "73\n",
      "failed\n",
      "74\n",
      "75\n",
      "failed\n",
      "76\n",
      "failed\n",
      "77\n",
      "78\n",
      "79\n",
      "80\n",
      "81\n",
      "failed\n",
      "82\n",
      "failed\n",
      "83\n",
      "failed\n",
      "84\n",
      "85\n",
      "86\n",
      "87\n",
      "88\n",
      "89\n",
      "90\n",
      "failed\n",
      "91\n",
      "92\n",
      "93\n",
      "failed\n",
      "94\n",
      "95\n",
      "96\n",
      "97\n",
      "98\n",
      "99\n",
      "100\n",
      "101\n",
      "102\n"
     ]
    }
   ],
   "source": [
    "i=0\n",
    "\n",
    "tic = time.perf_counter()\n",
    "\n",
    "while i < 3500:\n",
    "\n",
    "    cameraBasler.camera.StartGrabbingMax(_num_img)\n",
    "    ind = 0\n",
    "\n",
    "    pulsestreamer.pulser_on(False,1,False,None)\n",
    "\n",
    "    while cameraBasler.camera.IsGrabbing():\n",
    "\n",
    "        try:\n",
    "            output = cameraBasler.camera.RetrieveResult(5000, pylon.TimeoutHandling_ThrowException) # ms,exposure time < retrieval timeout\n",
    "            if output.GrabSucceeded():\n",
    "                imgs[:,:,ind] += output.Array\n",
    "                ind += 1\n",
    "                time.sleep(0.01)\n",
    "                prev_array = output.Array\n",
    "        except:\n",
    "            print('failed')\n",
    "            imgs[:,:,ind] += prev_array\n",
    "            ind += 1\n",
    "            time.sleep(0.01)\n",
    "            cameraBasler.camera.StopGrabbing()\n",
    "    \n",
    "    print(i)\n",
    "    i += 1\n",
    "\n",
    "toc = time.perf_counter()\n",
    "    \n",
    "pulsestreamer.pulser_off()\n",
    "mw_source_smb100B.off()\n",
    "mw_source_srssg.off()\n",
    "\n",
    "time.sleep(1) \n",
    "plt.plot(imgs[75,75,:])\n",
    "plt.show()\n",
    "\n",
    "print(f\"Finished sweeps in {toc - tic:0.4f} seconds\")\n",
    "\n",
    "\n",
    "\n",
    "#200 sweeps of 27 pts in 6.5 mins"
   ]
  },
  {
   "cell_type": "code",
   "execution_count": 30,
   "metadata": {},
   "outputs": [
    {
     "data": {
      "text/plain": [
       "array([0.00000000e+00, 1.00000000e-09, 4.57305052e-09, 2.09127911e-08,\n",
       "       9.56352500e-08, 4.37344830e-07, 2.00000000e-06])"
      ]
     },
     "execution_count": 30,
     "metadata": {},
     "output_type": "execute_result"
    }
   ],
   "source": [
    "# generate tau_array\n",
    "\n",
    "tau_end = pulsedmeasurement._pm.method_param_widgets.get('t1_WF_2exponential')['tau_end'].value() \n",
    "tau_start = pulsedmeasurement._pm.method_param_widgets.get('t1_WF_2exponential')['tau_start'].value() \n",
    "\n",
    "if tau_start == 0.0:\n",
    "    tau_array = np.geomspace(1e-9, tau_end, _num_points - 1)\n",
    "    tau_array = np.insert(tau_array, 0, 0.0)\n",
    "else:\n",
    "    tau_array = np.geomspace(tau_start, tau_end, _num_points)\n",
    "    \n",
    "tau_array"
   ]
  },
  {
   "cell_type": "code",
   "execution_count": 31,
   "metadata": {
    "scrolled": true
   },
   "outputs": [
    {
     "data": {
      "image/png": "[encoded data removed]"
     },
     "metadata": {
      "image/png": {
       "height": 361,
       "width": 568
      }
     },
     "output_type": "display_data"
    }
   ],
   "source": [
    "# divide up data into three curves and plot central pixel\n",
    "# pi1 = d2 = smb100b = lower = negative\n",
    "# pi2 = d1 = sg386 = upper = positive\n",
    "\n",
    "ms_zer = np.zeros((imgs.shape[0],imgs.shape[1],_num_points))\n",
    "ms_neg = np.zeros((imgs.shape[0],imgs.shape[1],_num_points))\n",
    "# ms_pos = np.zeros((imgs.shape[0],imgs.shape[1],_num_points))\n",
    "\n",
    "for i in range(_num_points):\n",
    "#     ms_zer = np.dstack((ms_zer,imgs[:,:,i]))\n",
    "#     ms_neg = np.dstack((ms_neg,imgs[:,:,i+1]))\n",
    "#     ms_pos = np.dstack((ms_pos,imgs[:,:,i+2]))\n",
    "    ms_zer[:,:,i] = imgs[:,:,2*i]\n",
    "    ms_neg[:,:,i] = imgs[:,:,2*i+1]\n",
    "#     ms_pos[:,:,i] = imgs[:,:,3*i+2]\n",
    "    \n",
    "px = (30,30)\n",
    "\n",
    "plt.plot(tau_array,ms_zer[px[0],px[1],:],'ro-')\n",
    "plt.plot(tau_array,ms_neg[px[0],px[1],:],'go-')\n",
    "# plt.plot(tau_array,ms_pos[px[0],px[1],:],'bo-')\n",
    "\n",
    "plt.show()"
   ]
  },
  {
   "cell_type": "markdown",
   "metadata": {},
   "source": []
  },
  {
   "cell_type": "code",
   "execution_count": 35,
   "metadata": {
    "scrolled": true
   },
   "outputs": [
    {
     "data": {
      "image/png": "[encoded data removed]"
     },
     "metadata": {
      "image/png": {
       "height": 437,
       "width": 653
      }
     },
     "output_type": "display_data"
    }
   ],
   "source": [
    "pulsestreamer._seq.plot()"
   ]
  },
  {
   "cell_type": "code",
   "execution_count": 27,
   "metadata": {},
   "outputs": [],
   "source": [
    "rabi_2000reps = rabi_subtracted"
   ]
  },
  {
   "cell_type": "code",
   "execution_count": 46,
   "metadata": {},
   "outputs": [
    {
     "data": {
      "text/plain": [
       "(9,)"
      ]
     },
     "execution_count": 46,
     "metadata": {},
     "output_type": "execute_result"
    }
   ],
   "source": [
    "tau_array.shape"
   ]
  },
  {
   "cell_type": "code",
   "execution_count": 32,
   "metadata": {},
   "outputs": [],
   "source": [
    "savedict = {'ms_zer' : ms_zer, 'ms_neg': ms_neg, 'tau_array':tau_array}"
   ]
  },
  {
   "cell_type": "code",
   "execution_count": 33,
   "metadata": {},
   "outputs": [],
   "source": [
    "import numpy as np\n",
    "import scipy.io\n",
    "\n",
    "\n",
    "\n",
    "scipy.io.savemat('Joan_2000_2us_t1.mat',savedict)\n",
    "\n",
    "# arr = np.asarray(rabi_2000reps)\n",
    "# np.savetxt('rabidata_2000r.csv',arr, delimiter = ',')"
   ]
  },
  {
   "cell_type": "code",
   "execution_count": 5,
   "metadata": {},
   "outputs": [
    {
     "data": {
      "text/plain": [
       "'C:\\\\Users\\\\cduPC\\\\Documents\\\\GitHub\\\\qudi'"
      ]
     },
     "execution_count": 5,
     "metadata": {},
     "output_type": "execute_result"
    }
   ],
   "source": [
    "import os\n",
    "os.getcwd()"
   ]
  },
  {
   "cell_type": "code",
   "execution_count": null,
   "metadata": {},
   "outputs": [],
   "source": []
  }
 ],
 "metadata": {
  "kernelspec": {
   "display_name": "Qudi",
   "language": "python",
   "name": "sj5-qudi"
  },
  "language_info": {
   "codemirror_mode": {
    "name": "ipython",
    "version": "3.6.5"
   },
   "file_extension": ".py",
   "mimetype": "text/x-python",
   "name": "python",
   "nbconvert_exporter": "python",
   "pygments_lexer": "ipython3",
   "version": "3.6.5"
  }
 },
 "nbformat": 4,
 "nbformat_minor": 2
}
