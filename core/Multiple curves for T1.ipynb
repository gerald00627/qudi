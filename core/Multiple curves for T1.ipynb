{
 "cells": [
  {
   "cell_type": "code",
   "execution_count": null,
   "metadata": {},
   "outputs": [],
   "source": [
    "import pyqtgraph as pg\n",
    "from gui.colordefs import QudiPalettePale as palette\n",
    "from qtpy import QtCore"
   ]
  },
  {
   "cell_type": "code",
   "execution_count": null,
   "metadata": {},
   "outputs": [],
   "source": [
    "camera_odmr_gui.odmr_image = []"
   ]
  },
  {
   "cell_type": "markdown",
   "metadata": {},
   "source": [
    "3 curves max always"
   ]
  },
  {
   "cell_type": "code",
   "execution_count": null,
   "metadata": {},
   "outputs": [],
   "source": [
    "camera_odmr_gui.odmr_image.append(pg.PlotDataItem(pen=pg.mkPen(palette.c1, style=QtCore.Qt.DotLine),\n",
    "                                          symbol='o',\n",
    "                                          symbolPen=palette.c1,\n",
    "                                          symbolBrush=palette.c1,\n",
    "                                          symbolSize=7))\n",
    "camera_odmr_gui._mw.odmr_PlotWidget.addItem(camera_odmr_gui.odmr_image[-1])\n",
    "\n",
    "camera_odmr_gui.odmr_image.append(pg.PlotDataItem(pen=pg.mkPen(palette.c3, style=QtCore.Qt.DotLine),\n",
    "                                          symbol='o',\n",
    "                                          symbolPen=palette.c3,\n",
    "                                          symbolBrush=palette.c3,\n",
    "                                          symbolSize=7))\n",
    "camera_odmr_gui._mw.odmr_PlotWidget.addItem(camera_odmr_gui.odmr_image[-1])\n",
    "\n",
    "camera_odmr_gui.odmr_image.append(pg.PlotDataItem(pen=pg.mkPen(palette.c4, style=QtCore.Qt.DotLine),\n",
    "                                          symbol='o',\n",
    "                                          symbolPen=palette.c4,\n",
    "                                          symbolBrush=palette.c4,\n",
    "                                          symbolSize=7))\n",
    "camera_odmr_gui._mw.odmr_PlotWidget.addItem(camera_odmr_gui.odmr_image[-1])"
   ]
  },
  {
   "cell_type": "code",
   "execution_count": null,
   "metadata": {},
   "outputs": [],
   "source": [
    "camera_odmr_gui.odmr_image[0].setData(y=yy,x=xx)"
   ]
  },
  {
   "cell_type": "code",
   "execution_count": null,
   "metadata": {},
   "outputs": [],
   "source": [
    "camera_odmr_gui.odmr_image[1].setData(y=yy1,x=xx)"
   ]
  },
  {
   "cell_type": "code",
   "execution_count": null,
   "metadata": {},
   "outputs": [],
   "source": [
    "camera_odmr_gui.odmr_image[2].setData(y=yy1*1.05,x=xx)"
   ]
  }
 ],
 "metadata": {
  "kernelspec": {
   "display_name": "Qudi",
   "language": "python",
   "name": "sj5-qudi"
  }
 },
 "nbformat": 4,
 "nbformat_minor": 2
}
